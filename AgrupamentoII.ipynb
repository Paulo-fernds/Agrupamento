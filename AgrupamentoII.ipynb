{
  "nbformat": 4,
  "nbformat_minor": 0,
  "metadata": {
    "colab": {
      "provenance": [],
      "include_colab_link": true
    },
    "kernelspec": {
      "name": "python3",
      "display_name": "Python 3"
    },
    "language_info": {
      "name": "python"
    }
  },
  "cells": [
    {
      "cell_type": "markdown",
      "metadata": {
        "id": "view-in-github",
        "colab_type": "text"
      },
      "source": [
        "<a href=\"https://colab.research.google.com/github/Paulo-fernds/Agrupamento/blob/main/AgrupamentoII.ipynb\" target=\"_parent\"><img src=\"https://colab.research.google.com/assets/colab-badge.svg\" alt=\"Open In Colab\"/></a>"
      ]
    },
    {
      "cell_type": "markdown",
      "metadata": {
        "id": "0LzEzCFAiaRj"
      },
      "source": [
        "# Agrupamento"
      ]
    },
    {
      "cell_type": "code",
      "source": [],
      "metadata": {
        "id": "3RZs0TpwTnrd"
      },
      "execution_count": null,
      "outputs": []
    },
    {
      "cell_type": "code",
      "metadata": {
        "id": "wpGQrlxrcuYX",
        "colab": {
          "base_uri": "https://localhost:8080/"
        },
        "outputId": "d756176d-5ad2-4607-ac40-469c0daba69a"
      },
      "source": [
        "!pip install plotly --upgrade"
      ],
      "execution_count": 1,
      "outputs": [
        {
          "output_type": "stream",
          "name": "stdout",
          "text": [
            "Looking in indexes: https://pypi.org/simple, https://us-python.pkg.dev/colab-wheels/public/simple/\n",
            "Requirement already satisfied: plotly in /usr/local/lib/python3.7/dist-packages (5.5.0)\n",
            "Collecting plotly\n",
            "  Downloading plotly-5.10.0-py2.py3-none-any.whl (15.2 MB)\n",
            "\u001b[K     |████████████████████████████████| 15.2 MB 5.7 MB/s \n",
            "\u001b[?25hRequirement already satisfied: tenacity>=6.2.0 in /usr/local/lib/python3.7/dist-packages (from plotly) (8.0.1)\n",
            "Installing collected packages: plotly\n",
            "  Attempting uninstall: plotly\n",
            "    Found existing installation: plotly 5.5.0\n",
            "    Uninstalling plotly-5.5.0:\n",
            "      Successfully uninstalled plotly-5.5.0\n",
            "Successfully installed plotly-5.10.0\n"
          ]
        }
      ]
    },
    {
      "cell_type": "code",
      "metadata": {
        "id": "WQ4jeik5c0qQ"
      },
      "source": [
        "import pandas as pd\n",
        "import plotly.express as px\n",
        "import plotly.graph_objects as go\n",
        "import numpy as np\n",
        "from sklearn.preprocessing import StandardScaler"
      ],
      "execution_count": 25,
      "outputs": []
    },
    {
      "cell_type": "markdown",
      "metadata": {
        "id": "QA2IcjMpidgZ"
      },
      "source": [
        "# K-means"
      ]
    },
    {
      "cell_type": "markdown",
      "metadata": {
        "id": "6FtF2zHVxUGA"
      },
      "source": [
        "## Base idade e salário"
      ]
    },
    {
      "cell_type": "code",
      "metadata": {
        "id": "GDKBlHjzdSUm"
      },
      "source": [
        "from sklearn.cluster import KMeans"
      ],
      "execution_count": 26,
      "outputs": []
    },
    {
      "cell_type": "code",
      "metadata": {
        "id": "lzOIvqDbdXJL",
        "colab": {
          "base_uri": "https://localhost:8080/"
        },
        "outputId": "4d28b33f-b3be-4a5f-dbe5-f4f00803eb73"
      },
      "source": [
        "health_plans = pd.read_csv('/content/plano_saude.csv', header = 0)\n",
        "health_plans = health_plans.to_numpy()\n",
        "health_plans\n",
        "\n",
        "\n",
        "#x=[20,  27,  21,  37,  46, 53, 55,  47,  52,  32,  39,  41,  39,  48,  48]  \n",
        "#y=[1000,1200,2900,1850,900,950,2000,2100,3000,5900,4100,5100,7000,5000,6500]  "
      ],
      "execution_count": 45,
      "outputs": [
        {
          "output_type": "execute_result",
          "data": {
            "text/plain": [
              "array([[  18,  871],\n",
              "       [  23, 1132],\n",
              "       [  28, 1242],\n",
              "       [  33, 1356],\n",
              "       [  38, 1488],\n",
              "       [  43, 1638],\n",
              "       [  48, 2130],\n",
              "       [  53, 2454],\n",
              "       [  58, 3066],\n",
              "       [  63, 4090]])"
            ]
          },
          "metadata": {},
          "execution_count": 45
        }
      ]
    },
    {
      "cell_type": "code",
      "metadata": {
        "id": "17Zu-crfdlhH",
        "colab": {
          "base_uri": "https://localhost:8080/",
          "height": 542
        },
        "outputId": "8064c1ab-6c28-40a7-c147-c516325c4344"
      },
      "source": [
        "grafico = px.scatter(x = health_plans[:,0], y = health_plans[:,1])\n",
        "grafico.show()"
      ],
      "execution_count": 48,
      "outputs": [
        {
          "output_type": "display_data",
          "data": {
            "text/html": [
              "<html>\n",
              "<head><meta charset=\"utf-8\" /></head>\n",
              "<body>\n",
              "    <div>            <script src=\"https://cdnjs.cloudflare.com/ajax/libs/mathjax/2.7.5/MathJax.js?config=TeX-AMS-MML_SVG\"></script><script type=\"text/javascript\">if (window.MathJax && window.MathJax.Hub && window.MathJax.Hub.Config) {window.MathJax.Hub.Config({SVG: {font: \"STIX-Web\"}});}</script>                <script type=\"text/javascript\">window.PlotlyConfig = {MathJaxConfig: 'local'};</script>\n",
              "        <script src=\"https://cdn.plot.ly/plotly-2.14.0.min.js\"></script>                <div id=\"6cb7cb22-0a02-4598-8a67-3ca70aee7f6d\" class=\"plotly-graph-div\" style=\"height:525px; width:100%;\"></div>            <script type=\"text/javascript\">                                    window.PLOTLYENV=window.PLOTLYENV || {};                                    if (document.getElementById(\"6cb7cb22-0a02-4598-8a67-3ca70aee7f6d\")) {                    Plotly.newPlot(                        \"6cb7cb22-0a02-4598-8a67-3ca70aee7f6d\",                        [{\"hovertemplate\":\"x=%{x}<br>y=%{y}<extra></extra>\",\"legendgroup\":\"\",\"marker\":{\"color\":\"#636efa\",\"symbol\":\"circle\"},\"mode\":\"markers\",\"name\":\"\",\"orientation\":\"v\",\"showlegend\":false,\"x\":[18,23,28,33,38,43,48,53,58,63],\"xaxis\":\"x\",\"y\":[871,1132,1242,1356,1488,1638,2130,2454,3066,4090],\"yaxis\":\"y\",\"type\":\"scatter\"}],                        {\"template\":{\"data\":{\"histogram2dcontour\":[{\"type\":\"histogram2dcontour\",\"colorbar\":{\"outlinewidth\":0,\"ticks\":\"\"},\"colorscale\":[[0.0,\"#0d0887\"],[0.1111111111111111,\"#46039f\"],[0.2222222222222222,\"#7201a8\"],[0.3333333333333333,\"#9c179e\"],[0.4444444444444444,\"#bd3786\"],[0.5555555555555556,\"#d8576b\"],[0.6666666666666666,\"#ed7953\"],[0.7777777777777778,\"#fb9f3a\"],[0.8888888888888888,\"#fdca26\"],[1.0,\"#f0f921\"]]}],\"choropleth\":[{\"type\":\"choropleth\",\"colorbar\":{\"outlinewidth\":0,\"ticks\":\"\"}}],\"histogram2d\":[{\"type\":\"histogram2d\",\"colorbar\":{\"outlinewidth\":0,\"ticks\":\"\"},\"colorscale\":[[0.0,\"#0d0887\"],[0.1111111111111111,\"#46039f\"],[0.2222222222222222,\"#7201a8\"],[0.3333333333333333,\"#9c179e\"],[0.4444444444444444,\"#bd3786\"],[0.5555555555555556,\"#d8576b\"],[0.6666666666666666,\"#ed7953\"],[0.7777777777777778,\"#fb9f3a\"],[0.8888888888888888,\"#fdca26\"],[1.0,\"#f0f921\"]]}],\"heatmap\":[{\"type\":\"heatmap\",\"colorbar\":{\"outlinewidth\":0,\"ticks\":\"\"},\"colorscale\":[[0.0,\"#0d0887\"],[0.1111111111111111,\"#46039f\"],[0.2222222222222222,\"#7201a8\"],[0.3333333333333333,\"#9c179e\"],[0.4444444444444444,\"#bd3786\"],[0.5555555555555556,\"#d8576b\"],[0.6666666666666666,\"#ed7953\"],[0.7777777777777778,\"#fb9f3a\"],[0.8888888888888888,\"#fdca26\"],[1.0,\"#f0f921\"]]}],\"heatmapgl\":[{\"type\":\"heatmapgl\",\"colorbar\":{\"outlinewidth\":0,\"ticks\":\"\"},\"colorscale\":[[0.0,\"#0d0887\"],[0.1111111111111111,\"#46039f\"],[0.2222222222222222,\"#7201a8\"],[0.3333333333333333,\"#9c179e\"],[0.4444444444444444,\"#bd3786\"],[0.5555555555555556,\"#d8576b\"],[0.6666666666666666,\"#ed7953\"],[0.7777777777777778,\"#fb9f3a\"],[0.8888888888888888,\"#fdca26\"],[1.0,\"#f0f921\"]]}],\"contourcarpet\":[{\"type\":\"contourcarpet\",\"colorbar\":{\"outlinewidth\":0,\"ticks\":\"\"}}],\"contour\":[{\"type\":\"contour\",\"colorbar\":{\"outlinewidth\":0,\"ticks\":\"\"},\"colorscale\":[[0.0,\"#0d0887\"],[0.1111111111111111,\"#46039f\"],[0.2222222222222222,\"#7201a8\"],[0.3333333333333333,\"#9c179e\"],[0.4444444444444444,\"#bd3786\"],[0.5555555555555556,\"#d8576b\"],[0.6666666666666666,\"#ed7953\"],[0.7777777777777778,\"#fb9f3a\"],[0.8888888888888888,\"#fdca26\"],[1.0,\"#f0f921\"]]}],\"surface\":[{\"type\":\"surface\",\"colorbar\":{\"outlinewidth\":0,\"ticks\":\"\"},\"colorscale\":[[0.0,\"#0d0887\"],[0.1111111111111111,\"#46039f\"],[0.2222222222222222,\"#7201a8\"],[0.3333333333333333,\"#9c179e\"],[0.4444444444444444,\"#bd3786\"],[0.5555555555555556,\"#d8576b\"],[0.6666666666666666,\"#ed7953\"],[0.7777777777777778,\"#fb9f3a\"],[0.8888888888888888,\"#fdca26\"],[1.0,\"#f0f921\"]]}],\"mesh3d\":[{\"type\":\"mesh3d\",\"colorbar\":{\"outlinewidth\":0,\"ticks\":\"\"}}],\"scatter\":[{\"fillpattern\":{\"fillmode\":\"overlay\",\"size\":10,\"solidity\":0.2},\"type\":\"scatter\"}],\"parcoords\":[{\"type\":\"parcoords\",\"line\":{\"colorbar\":{\"outlinewidth\":0,\"ticks\":\"\"}}}],\"scatterpolargl\":[{\"type\":\"scatterpolargl\",\"marker\":{\"colorbar\":{\"outlinewidth\":0,\"ticks\":\"\"}}}],\"bar\":[{\"error_x\":{\"color\":\"#2a3f5f\"},\"error_y\":{\"color\":\"#2a3f5f\"},\"marker\":{\"line\":{\"color\":\"#E5ECF6\",\"width\":0.5},\"pattern\":{\"fillmode\":\"overlay\",\"size\":10,\"solidity\":0.2}},\"type\":\"bar\"}],\"scattergeo\":[{\"type\":\"scattergeo\",\"marker\":{\"colorbar\":{\"outlinewidth\":0,\"ticks\":\"\"}}}],\"scatterpolar\":[{\"type\":\"scatterpolar\",\"marker\":{\"colorbar\":{\"outlinewidth\":0,\"ticks\":\"\"}}}],\"histogram\":[{\"marker\":{\"pattern\":{\"fillmode\":\"overlay\",\"size\":10,\"solidity\":0.2}},\"type\":\"histogram\"}],\"scattergl\":[{\"type\":\"scattergl\",\"marker\":{\"colorbar\":{\"outlinewidth\":0,\"ticks\":\"\"}}}],\"scatter3d\":[{\"type\":\"scatter3d\",\"line\":{\"colorbar\":{\"outlinewidth\":0,\"ticks\":\"\"}},\"marker\":{\"colorbar\":{\"outlinewidth\":0,\"ticks\":\"\"}}}],\"scattermapbox\":[{\"type\":\"scattermapbox\",\"marker\":{\"colorbar\":{\"outlinewidth\":0,\"ticks\":\"\"}}}],\"scatterternary\":[{\"type\":\"scatterternary\",\"marker\":{\"colorbar\":{\"outlinewidth\":0,\"ticks\":\"\"}}}],\"scattercarpet\":[{\"type\":\"scattercarpet\",\"marker\":{\"colorbar\":{\"outlinewidth\":0,\"ticks\":\"\"}}}],\"carpet\":[{\"aaxis\":{\"endlinecolor\":\"#2a3f5f\",\"gridcolor\":\"white\",\"linecolor\":\"white\",\"minorgridcolor\":\"white\",\"startlinecolor\":\"#2a3f5f\"},\"baxis\":{\"endlinecolor\":\"#2a3f5f\",\"gridcolor\":\"white\",\"linecolor\":\"white\",\"minorgridcolor\":\"white\",\"startlinecolor\":\"#2a3f5f\"},\"type\":\"carpet\"}],\"table\":[{\"cells\":{\"fill\":{\"color\":\"#EBF0F8\"},\"line\":{\"color\":\"white\"}},\"header\":{\"fill\":{\"color\":\"#C8D4E3\"},\"line\":{\"color\":\"white\"}},\"type\":\"table\"}],\"barpolar\":[{\"marker\":{\"line\":{\"color\":\"#E5ECF6\",\"width\":0.5},\"pattern\":{\"fillmode\":\"overlay\",\"size\":10,\"solidity\":0.2}},\"type\":\"barpolar\"}],\"pie\":[{\"automargin\":true,\"type\":\"pie\"}]},\"layout\":{\"autotypenumbers\":\"strict\",\"colorway\":[\"#636efa\",\"#EF553B\",\"#00cc96\",\"#ab63fa\",\"#FFA15A\",\"#19d3f3\",\"#FF6692\",\"#B6E880\",\"#FF97FF\",\"#FECB52\"],\"font\":{\"color\":\"#2a3f5f\"},\"hovermode\":\"closest\",\"hoverlabel\":{\"align\":\"left\"},\"paper_bgcolor\":\"white\",\"plot_bgcolor\":\"#E5ECF6\",\"polar\":{\"bgcolor\":\"#E5ECF6\",\"angularaxis\":{\"gridcolor\":\"white\",\"linecolor\":\"white\",\"ticks\":\"\"},\"radialaxis\":{\"gridcolor\":\"white\",\"linecolor\":\"white\",\"ticks\":\"\"}},\"ternary\":{\"bgcolor\":\"#E5ECF6\",\"aaxis\":{\"gridcolor\":\"white\",\"linecolor\":\"white\",\"ticks\":\"\"},\"baxis\":{\"gridcolor\":\"white\",\"linecolor\":\"white\",\"ticks\":\"\"},\"caxis\":{\"gridcolor\":\"white\",\"linecolor\":\"white\",\"ticks\":\"\"}},\"coloraxis\":{\"colorbar\":{\"outlinewidth\":0,\"ticks\":\"\"}},\"colorscale\":{\"sequential\":[[0.0,\"#0d0887\"],[0.1111111111111111,\"#46039f\"],[0.2222222222222222,\"#7201a8\"],[0.3333333333333333,\"#9c179e\"],[0.4444444444444444,\"#bd3786\"],[0.5555555555555556,\"#d8576b\"],[0.6666666666666666,\"#ed7953\"],[0.7777777777777778,\"#fb9f3a\"],[0.8888888888888888,\"#fdca26\"],[1.0,\"#f0f921\"]],\"sequentialminus\":[[0.0,\"#0d0887\"],[0.1111111111111111,\"#46039f\"],[0.2222222222222222,\"#7201a8\"],[0.3333333333333333,\"#9c179e\"],[0.4444444444444444,\"#bd3786\"],[0.5555555555555556,\"#d8576b\"],[0.6666666666666666,\"#ed7953\"],[0.7777777777777778,\"#fb9f3a\"],[0.8888888888888888,\"#fdca26\"],[1.0,\"#f0f921\"]],\"diverging\":[[0,\"#8e0152\"],[0.1,\"#c51b7d\"],[0.2,\"#de77ae\"],[0.3,\"#f1b6da\"],[0.4,\"#fde0ef\"],[0.5,\"#f7f7f7\"],[0.6,\"#e6f5d0\"],[0.7,\"#b8e186\"],[0.8,\"#7fbc41\"],[0.9,\"#4d9221\"],[1,\"#276419\"]]},\"xaxis\":{\"gridcolor\":\"white\",\"linecolor\":\"white\",\"ticks\":\"\",\"title\":{\"standoff\":15},\"zerolinecolor\":\"white\",\"automargin\":true,\"zerolinewidth\":2},\"yaxis\":{\"gridcolor\":\"white\",\"linecolor\":\"white\",\"ticks\":\"\",\"title\":{\"standoff\":15},\"zerolinecolor\":\"white\",\"automargin\":true,\"zerolinewidth\":2},\"scene\":{\"xaxis\":{\"backgroundcolor\":\"#E5ECF6\",\"gridcolor\":\"white\",\"linecolor\":\"white\",\"showbackground\":true,\"ticks\":\"\",\"zerolinecolor\":\"white\",\"gridwidth\":2},\"yaxis\":{\"backgroundcolor\":\"#E5ECF6\",\"gridcolor\":\"white\",\"linecolor\":\"white\",\"showbackground\":true,\"ticks\":\"\",\"zerolinecolor\":\"white\",\"gridwidth\":2},\"zaxis\":{\"backgroundcolor\":\"#E5ECF6\",\"gridcolor\":\"white\",\"linecolor\":\"white\",\"showbackground\":true,\"ticks\":\"\",\"zerolinecolor\":\"white\",\"gridwidth\":2}},\"shapedefaults\":{\"line\":{\"color\":\"#2a3f5f\"}},\"annotationdefaults\":{\"arrowcolor\":\"#2a3f5f\",\"arrowhead\":0,\"arrowwidth\":1},\"geo\":{\"bgcolor\":\"white\",\"landcolor\":\"#E5ECF6\",\"subunitcolor\":\"white\",\"showland\":true,\"showlakes\":true,\"lakecolor\":\"white\"},\"title\":{\"x\":0.05},\"mapbox\":{\"style\":\"light\"}}},\"xaxis\":{\"anchor\":\"y\",\"domain\":[0.0,1.0],\"title\":{\"text\":\"x\"}},\"yaxis\":{\"anchor\":\"x\",\"domain\":[0.0,1.0],\"title\":{\"text\":\"y\"}},\"legend\":{\"tracegroupgap\":0},\"margin\":{\"t\":60}},                        {\"responsive\": true}                    ).then(function(){\n",
              "                            \n",
              "var gd = document.getElementById('6cb7cb22-0a02-4598-8a67-3ca70aee7f6d');\n",
              "var x = new MutationObserver(function (mutations, observer) {{\n",
              "        var display = window.getComputedStyle(gd).display;\n",
              "        if (!display || display === 'none') {{\n",
              "            console.log([gd, 'removed!']);\n",
              "            Plotly.purge(gd);\n",
              "            observer.disconnect();\n",
              "        }}\n",
              "}});\n",
              "\n",
              "// Listen for the removal of the full notebook cells\n",
              "var notebookContainer = gd.closest('#notebook-container');\n",
              "if (notebookContainer) {{\n",
              "    x.observe(notebookContainer, {childList: true});\n",
              "}}\n",
              "\n",
              "// Listen for the clearing of the current output cell\n",
              "var outputEl = gd.closest('.output');\n",
              "if (outputEl) {{\n",
              "    x.observe(outputEl, {childList: true});\n",
              "}}\n",
              "\n",
              "                        })                };                            </script>        </div>\n",
              "</body>\n",
              "</html>"
            ]
          },
          "metadata": {}
        }
      ]
    },
    {
      "cell_type": "code",
      "metadata": {
        "id": "L7XwXseid0F9"
      },
      "source": [
        "health_plans = np.array([[  18,  871],\n",
        "       [  23, 1132],\n",
        "       [  28, 1242],\n",
        "       [  33, 1356],\n",
        "       [  38, 1488],\n",
        "       [  43, 1638],\n",
        "       [  48, 2130],\n",
        "       [  53, 2454],\n",
        "       [  58, 3066],\n",
        "       [  63, 4090]])"
      ],
      "execution_count": 51,
      "outputs": []
    },
    {
      "cell_type": "code",
      "metadata": {
        "id": "XsIzM5HmeFi4",
        "colab": {
          "base_uri": "https://localhost:8080/"
        },
        "outputId": "3ed141d5-1e8b-4eab-daa6-81551a9260b0"
      },
      "source": [
        "health_plans"
      ],
      "execution_count": 52,
      "outputs": [
        {
          "output_type": "execute_result",
          "data": {
            "text/plain": [
              "array([[  18,  871],\n",
              "       [  23, 1132],\n",
              "       [  28, 1242],\n",
              "       [  33, 1356],\n",
              "       [  38, 1488],\n",
              "       [  43, 1638],\n",
              "       [  48, 2130],\n",
              "       [  53, 2454],\n",
              "       [  58, 3066],\n",
              "       [  63, 4090]])"
            ]
          },
          "metadata": {},
          "execution_count": 52
        }
      ]
    },
    {
      "cell_type": "code",
      "metadata": {
        "id": "Ne41rB_JeKPn"
      },
      "source": [
        "scaler_health = StandardScaler()#Padronização de valores\n",
        "health_plans = scaler_health.fit_transform(health_plans) "
      ],
      "execution_count": 54,
      "outputs": []
    },
    {
      "cell_type": "code",
      "metadata": {
        "id": "tDyF7MWAeWaR",
        "colab": {
          "base_uri": "https://localhost:8080/"
        },
        "outputId": "047ab1dc-2e85-419f-e5d2-8b33d5d37b87"
      },
      "source": [
        "health_plans"
      ],
      "execution_count": 55,
      "outputs": [
        {
          "output_type": "execute_result",
          "data": {
            "text/plain": [
              "array([[-1.5666989 , -1.12704467],\n",
              "       [-1.21854359, -0.85358678],\n",
              "       [-0.87038828, -0.73833632],\n",
              "       [-0.52223297, -0.61889494],\n",
              "       [-0.17407766, -0.4805944 ],\n",
              "       [ 0.17407766, -0.32343469],\n",
              "       [ 0.52223297,  0.19204917],\n",
              "       [ 0.87038828,  0.53151414],\n",
              "       [ 1.21854359,  1.17272576],\n",
              "       [ 1.5666989 ,  2.24560272]])"
            ]
          },
          "metadata": {},
          "execution_count": 55
        }
      ]
    },
    {
      "cell_type": "code",
      "metadata": {
        "id": "d3BVf2hreZx0",
        "colab": {
          "base_uri": "https://localhost:8080/"
        },
        "outputId": "61ca7c87-ac61-4ade-9077-b70ae48fb039"
      },
      "source": [
        "kmeans_health = KMeans(n_clusters=3)\n",
        "kmeans_health.fit(health_plans)#Treinamento"
      ],
      "execution_count": 58,
      "outputs": [
        {
          "output_type": "execute_result",
          "data": {
            "text/plain": [
              "KMeans(n_clusters=3)"
            ]
          },
          "metadata": {},
          "execution_count": 58
        }
      ]
    },
    {
      "cell_type": "code",
      "metadata": {
        "id": "HzUH_X-1eqfV",
        "colab": {
          "base_uri": "https://localhost:8080/"
        },
        "outputId": "3c048f3b-871a-43fe-87aa-157dcf24bb58"
      },
      "source": [
        "centroides = kmeans_health.cluster_centers_\n",
        "centroides"
      ],
      "execution_count": 59,
      "outputs": [
        {
          "output_type": "execute_result",
          "data": {
            "text/plain": [
              "array([[-1.04446594, -0.83446568],\n",
              "       [ 0.34815531, -0.02011644],\n",
              "       [ 1.39262125,  1.70916424]])"
            ]
          },
          "metadata": {},
          "execution_count": 59
        }
      ]
    },
    {
      "cell_type": "code",
      "metadata": {
        "id": "ekHCvALTe2Uj",
        "colab": {
          "base_uri": "https://localhost:8080/"
        },
        "outputId": "cf9b35a0-aaa9-4ce7-f88f-8bc21dde88f8"
      },
      "source": [
        "scaler_health.inverse_transform(kmeans_health.cluster_centers_)"
      ],
      "execution_count": 62,
      "outputs": [
        {
          "output_type": "execute_result",
          "data": {
            "text/plain": [
              "array([[  25.5 , 1150.25],\n",
              "       [  45.5 , 1927.5 ],\n",
              "       [  60.5 , 3578.  ]])"
            ]
          },
          "metadata": {},
          "execution_count": 62
        }
      ]
    },
    {
      "cell_type": "code",
      "metadata": {
        "id": "CsfBSiFkfyOc",
        "colab": {
          "base_uri": "https://localhost:8080/"
        },
        "outputId": "4cde7e71-0b0f-41cb-9b7b-4558f58ddabc"
      },
      "source": [
        "rotulos = kmeans_health.labels_\n",
        "rotulos"
      ],
      "execution_count": 63,
      "outputs": [
        {
          "output_type": "execute_result",
          "data": {
            "text/plain": [
              "array([0, 0, 0, 0, 1, 1, 1, 1, 2, 2], dtype=int32)"
            ]
          },
          "metadata": {},
          "execution_count": 63
        }
      ]
    },
    {
      "cell_type": "code",
      "metadata": {
        "id": "YNCbRbN0gAhL",
        "colab": {
          "base_uri": "https://localhost:8080/",
          "height": 542
        },
        "outputId": "a4053bf2-5198-48bc-ccbb-563a7de2d818"
      },
      "source": [
        "grafico1 = px.scatter(x = health_plans[:,0], y = health_plans[:,1], color=rotulos)\n",
        "grafico2 = px.scatter(x = centroides[:,0], y = centroides[:,1], size = [12, 12, 12])\n",
        "grafico3 = go.Figure(data = grafico1.data + grafico2.data)\n",
        "grafico3.show()"
      ],
      "execution_count": 64,
      "outputs": [
        {
          "output_type": "display_data",
          "data": {
            "text/html": [
              "<html>\n",
              "<head><meta charset=\"utf-8\" /></head>\n",
              "<body>\n",
              "    <div>            <script src=\"https://cdnjs.cloudflare.com/ajax/libs/mathjax/2.7.5/MathJax.js?config=TeX-AMS-MML_SVG\"></script><script type=\"text/javascript\">if (window.MathJax && window.MathJax.Hub && window.MathJax.Hub.Config) {window.MathJax.Hub.Config({SVG: {font: \"STIX-Web\"}});}</script>                <script type=\"text/javascript\">window.PlotlyConfig = {MathJaxConfig: 'local'};</script>\n",
              "        <script src=\"https://cdn.plot.ly/plotly-2.14.0.min.js\"></script>                <div id=\"5a28b2ef-cf77-485f-b2ba-8b8f9f89d61b\" class=\"plotly-graph-div\" style=\"height:525px; width:100%;\"></div>            <script type=\"text/javascript\">                                    window.PLOTLYENV=window.PLOTLYENV || {};                                    if (document.getElementById(\"5a28b2ef-cf77-485f-b2ba-8b8f9f89d61b\")) {                    Plotly.newPlot(                        \"5a28b2ef-cf77-485f-b2ba-8b8f9f89d61b\",                        [{\"hovertemplate\":\"x=%{x}<br>y=%{y}<br>color=%{marker.color}<extra></extra>\",\"legendgroup\":\"\",\"marker\":{\"color\":[0,0,0,0,1,1,1,1,2,2],\"coloraxis\":\"coloraxis\",\"symbol\":\"circle\"},\"mode\":\"markers\",\"name\":\"\",\"orientation\":\"v\",\"showlegend\":false,\"x\":[-1.5666989036012806,-1.2185435916898848,-0.8703882797784892,-0.5222329678670935,-0.17407765595569785,0.17407765595569785,0.5222329678670935,0.8703882797784892,1.2185435916898848,1.5666989036012806],\"xaxis\":\"x\",\"y\":[-1.1270446739884952,-0.853586776888005,-0.7383363221713234,-0.6188949418285805,-0.4805943961685626,-0.3234346851912694,0.19204916681425221,0.5315141425252055,1.1727257633125616,2.2456027235842164],\"yaxis\":\"y\",\"type\":\"scatter\"},{\"hovertemplate\":\"x=%{x}<br>y=%{y}<br>size=%{marker.size}<extra></extra>\",\"legendgroup\":\"\",\"marker\":{\"color\":\"#636efa\",\"size\":[12,12,12],\"sizemode\":\"area\",\"sizeref\":0.03,\"symbol\":\"circle\"},\"mode\":\"markers\",\"name\":\"\",\"orientation\":\"v\",\"showlegend\":false,\"x\":[-1.0444659357341868,0.3481553119113957,1.3926212476455828],\"xaxis\":\"x\",\"y\":[-0.834465678719101,-0.020116443005093555,1.709164243448389],\"yaxis\":\"y\",\"type\":\"scatter\"}],                        {\"template\":{\"data\":{\"histogram2dcontour\":[{\"type\":\"histogram2dcontour\",\"colorbar\":{\"outlinewidth\":0,\"ticks\":\"\"},\"colorscale\":[[0.0,\"#0d0887\"],[0.1111111111111111,\"#46039f\"],[0.2222222222222222,\"#7201a8\"],[0.3333333333333333,\"#9c179e\"],[0.4444444444444444,\"#bd3786\"],[0.5555555555555556,\"#d8576b\"],[0.6666666666666666,\"#ed7953\"],[0.7777777777777778,\"#fb9f3a\"],[0.8888888888888888,\"#fdca26\"],[1.0,\"#f0f921\"]]}],\"choropleth\":[{\"type\":\"choropleth\",\"colorbar\":{\"outlinewidth\":0,\"ticks\":\"\"}}],\"histogram2d\":[{\"type\":\"histogram2d\",\"colorbar\":{\"outlinewidth\":0,\"ticks\":\"\"},\"colorscale\":[[0.0,\"#0d0887\"],[0.1111111111111111,\"#46039f\"],[0.2222222222222222,\"#7201a8\"],[0.3333333333333333,\"#9c179e\"],[0.4444444444444444,\"#bd3786\"],[0.5555555555555556,\"#d8576b\"],[0.6666666666666666,\"#ed7953\"],[0.7777777777777778,\"#fb9f3a\"],[0.8888888888888888,\"#fdca26\"],[1.0,\"#f0f921\"]]}],\"heatmap\":[{\"type\":\"heatmap\",\"colorbar\":{\"outlinewidth\":0,\"ticks\":\"\"},\"colorscale\":[[0.0,\"#0d0887\"],[0.1111111111111111,\"#46039f\"],[0.2222222222222222,\"#7201a8\"],[0.3333333333333333,\"#9c179e\"],[0.4444444444444444,\"#bd3786\"],[0.5555555555555556,\"#d8576b\"],[0.6666666666666666,\"#ed7953\"],[0.7777777777777778,\"#fb9f3a\"],[0.8888888888888888,\"#fdca26\"],[1.0,\"#f0f921\"]]}],\"heatmapgl\":[{\"type\":\"heatmapgl\",\"colorbar\":{\"outlinewidth\":0,\"ticks\":\"\"},\"colorscale\":[[0.0,\"#0d0887\"],[0.1111111111111111,\"#46039f\"],[0.2222222222222222,\"#7201a8\"],[0.3333333333333333,\"#9c179e\"],[0.4444444444444444,\"#bd3786\"],[0.5555555555555556,\"#d8576b\"],[0.6666666666666666,\"#ed7953\"],[0.7777777777777778,\"#fb9f3a\"],[0.8888888888888888,\"#fdca26\"],[1.0,\"#f0f921\"]]}],\"contourcarpet\":[{\"type\":\"contourcarpet\",\"colorbar\":{\"outlinewidth\":0,\"ticks\":\"\"}}],\"contour\":[{\"type\":\"contour\",\"colorbar\":{\"outlinewidth\":0,\"ticks\":\"\"},\"colorscale\":[[0.0,\"#0d0887\"],[0.1111111111111111,\"#46039f\"],[0.2222222222222222,\"#7201a8\"],[0.3333333333333333,\"#9c179e\"],[0.4444444444444444,\"#bd3786\"],[0.5555555555555556,\"#d8576b\"],[0.6666666666666666,\"#ed7953\"],[0.7777777777777778,\"#fb9f3a\"],[0.8888888888888888,\"#fdca26\"],[1.0,\"#f0f921\"]]}],\"surface\":[{\"type\":\"surface\",\"colorbar\":{\"outlinewidth\":0,\"ticks\":\"\"},\"colorscale\":[[0.0,\"#0d0887\"],[0.1111111111111111,\"#46039f\"],[0.2222222222222222,\"#7201a8\"],[0.3333333333333333,\"#9c179e\"],[0.4444444444444444,\"#bd3786\"],[0.5555555555555556,\"#d8576b\"],[0.6666666666666666,\"#ed7953\"],[0.7777777777777778,\"#fb9f3a\"],[0.8888888888888888,\"#fdca26\"],[1.0,\"#f0f921\"]]}],\"mesh3d\":[{\"type\":\"mesh3d\",\"colorbar\":{\"outlinewidth\":0,\"ticks\":\"\"}}],\"scatter\":[{\"fillpattern\":{\"fillmode\":\"overlay\",\"size\":10,\"solidity\":0.2},\"type\":\"scatter\"}],\"parcoords\":[{\"type\":\"parcoords\",\"line\":{\"colorbar\":{\"outlinewidth\":0,\"ticks\":\"\"}}}],\"scatterpolargl\":[{\"type\":\"scatterpolargl\",\"marker\":{\"colorbar\":{\"outlinewidth\":0,\"ticks\":\"\"}}}],\"bar\":[{\"error_x\":{\"color\":\"#2a3f5f\"},\"error_y\":{\"color\":\"#2a3f5f\"},\"marker\":{\"line\":{\"color\":\"#E5ECF6\",\"width\":0.5},\"pattern\":{\"fillmode\":\"overlay\",\"size\":10,\"solidity\":0.2}},\"type\":\"bar\"}],\"scattergeo\":[{\"type\":\"scattergeo\",\"marker\":{\"colorbar\":{\"outlinewidth\":0,\"ticks\":\"\"}}}],\"scatterpolar\":[{\"type\":\"scatterpolar\",\"marker\":{\"colorbar\":{\"outlinewidth\":0,\"ticks\":\"\"}}}],\"histogram\":[{\"marker\":{\"pattern\":{\"fillmode\":\"overlay\",\"size\":10,\"solidity\":0.2}},\"type\":\"histogram\"}],\"scattergl\":[{\"type\":\"scattergl\",\"marker\":{\"colorbar\":{\"outlinewidth\":0,\"ticks\":\"\"}}}],\"scatter3d\":[{\"type\":\"scatter3d\",\"line\":{\"colorbar\":{\"outlinewidth\":0,\"ticks\":\"\"}},\"marker\":{\"colorbar\":{\"outlinewidth\":0,\"ticks\":\"\"}}}],\"scattermapbox\":[{\"type\":\"scattermapbox\",\"marker\":{\"colorbar\":{\"outlinewidth\":0,\"ticks\":\"\"}}}],\"scatterternary\":[{\"type\":\"scatterternary\",\"marker\":{\"colorbar\":{\"outlinewidth\":0,\"ticks\":\"\"}}}],\"scattercarpet\":[{\"type\":\"scattercarpet\",\"marker\":{\"colorbar\":{\"outlinewidth\":0,\"ticks\":\"\"}}}],\"carpet\":[{\"aaxis\":{\"endlinecolor\":\"#2a3f5f\",\"gridcolor\":\"white\",\"linecolor\":\"white\",\"minorgridcolor\":\"white\",\"startlinecolor\":\"#2a3f5f\"},\"baxis\":{\"endlinecolor\":\"#2a3f5f\",\"gridcolor\":\"white\",\"linecolor\":\"white\",\"minorgridcolor\":\"white\",\"startlinecolor\":\"#2a3f5f\"},\"type\":\"carpet\"}],\"table\":[{\"cells\":{\"fill\":{\"color\":\"#EBF0F8\"},\"line\":{\"color\":\"white\"}},\"header\":{\"fill\":{\"color\":\"#C8D4E3\"},\"line\":{\"color\":\"white\"}},\"type\":\"table\"}],\"barpolar\":[{\"marker\":{\"line\":{\"color\":\"#E5ECF6\",\"width\":0.5},\"pattern\":{\"fillmode\":\"overlay\",\"size\":10,\"solidity\":0.2}},\"type\":\"barpolar\"}],\"pie\":[{\"automargin\":true,\"type\":\"pie\"}]},\"layout\":{\"autotypenumbers\":\"strict\",\"colorway\":[\"#636efa\",\"#EF553B\",\"#00cc96\",\"#ab63fa\",\"#FFA15A\",\"#19d3f3\",\"#FF6692\",\"#B6E880\",\"#FF97FF\",\"#FECB52\"],\"font\":{\"color\":\"#2a3f5f\"},\"hovermode\":\"closest\",\"hoverlabel\":{\"align\":\"left\"},\"paper_bgcolor\":\"white\",\"plot_bgcolor\":\"#E5ECF6\",\"polar\":{\"bgcolor\":\"#E5ECF6\",\"angularaxis\":{\"gridcolor\":\"white\",\"linecolor\":\"white\",\"ticks\":\"\"},\"radialaxis\":{\"gridcolor\":\"white\",\"linecolor\":\"white\",\"ticks\":\"\"}},\"ternary\":{\"bgcolor\":\"#E5ECF6\",\"aaxis\":{\"gridcolor\":\"white\",\"linecolor\":\"white\",\"ticks\":\"\"},\"baxis\":{\"gridcolor\":\"white\",\"linecolor\":\"white\",\"ticks\":\"\"},\"caxis\":{\"gridcolor\":\"white\",\"linecolor\":\"white\",\"ticks\":\"\"}},\"coloraxis\":{\"colorbar\":{\"outlinewidth\":0,\"ticks\":\"\"}},\"colorscale\":{\"sequential\":[[0.0,\"#0d0887\"],[0.1111111111111111,\"#46039f\"],[0.2222222222222222,\"#7201a8\"],[0.3333333333333333,\"#9c179e\"],[0.4444444444444444,\"#bd3786\"],[0.5555555555555556,\"#d8576b\"],[0.6666666666666666,\"#ed7953\"],[0.7777777777777778,\"#fb9f3a\"],[0.8888888888888888,\"#fdca26\"],[1.0,\"#f0f921\"]],\"sequentialminus\":[[0.0,\"#0d0887\"],[0.1111111111111111,\"#46039f\"],[0.2222222222222222,\"#7201a8\"],[0.3333333333333333,\"#9c179e\"],[0.4444444444444444,\"#bd3786\"],[0.5555555555555556,\"#d8576b\"],[0.6666666666666666,\"#ed7953\"],[0.7777777777777778,\"#fb9f3a\"],[0.8888888888888888,\"#fdca26\"],[1.0,\"#f0f921\"]],\"diverging\":[[0,\"#8e0152\"],[0.1,\"#c51b7d\"],[0.2,\"#de77ae\"],[0.3,\"#f1b6da\"],[0.4,\"#fde0ef\"],[0.5,\"#f7f7f7\"],[0.6,\"#e6f5d0\"],[0.7,\"#b8e186\"],[0.8,\"#7fbc41\"],[0.9,\"#4d9221\"],[1,\"#276419\"]]},\"xaxis\":{\"gridcolor\":\"white\",\"linecolor\":\"white\",\"ticks\":\"\",\"title\":{\"standoff\":15},\"zerolinecolor\":\"white\",\"automargin\":true,\"zerolinewidth\":2},\"yaxis\":{\"gridcolor\":\"white\",\"linecolor\":\"white\",\"ticks\":\"\",\"title\":{\"standoff\":15},\"zerolinecolor\":\"white\",\"automargin\":true,\"zerolinewidth\":2},\"scene\":{\"xaxis\":{\"backgroundcolor\":\"#E5ECF6\",\"gridcolor\":\"white\",\"linecolor\":\"white\",\"showbackground\":true,\"ticks\":\"\",\"zerolinecolor\":\"white\",\"gridwidth\":2},\"yaxis\":{\"backgroundcolor\":\"#E5ECF6\",\"gridcolor\":\"white\",\"linecolor\":\"white\",\"showbackground\":true,\"ticks\":\"\",\"zerolinecolor\":\"white\",\"gridwidth\":2},\"zaxis\":{\"backgroundcolor\":\"#E5ECF6\",\"gridcolor\":\"white\",\"linecolor\":\"white\",\"showbackground\":true,\"ticks\":\"\",\"zerolinecolor\":\"white\",\"gridwidth\":2}},\"shapedefaults\":{\"line\":{\"color\":\"#2a3f5f\"}},\"annotationdefaults\":{\"arrowcolor\":\"#2a3f5f\",\"arrowhead\":0,\"arrowwidth\":1},\"geo\":{\"bgcolor\":\"white\",\"landcolor\":\"#E5ECF6\",\"subunitcolor\":\"white\",\"showland\":true,\"showlakes\":true,\"lakecolor\":\"white\"},\"title\":{\"x\":0.05},\"mapbox\":{\"style\":\"light\"}}}},                        {\"responsive\": true}                    ).then(function(){\n",
              "                            \n",
              "var gd = document.getElementById('5a28b2ef-cf77-485f-b2ba-8b8f9f89d61b');\n",
              "var x = new MutationObserver(function (mutations, observer) {{\n",
              "        var display = window.getComputedStyle(gd).display;\n",
              "        if (!display || display === 'none') {{\n",
              "            console.log([gd, 'removed!']);\n",
              "            Plotly.purge(gd);\n",
              "            observer.disconnect();\n",
              "        }}\n",
              "}});\n",
              "\n",
              "// Listen for the removal of the full notebook cells\n",
              "var notebookContainer = gd.closest('#notebook-container');\n",
              "if (notebookContainer) {{\n",
              "    x.observe(notebookContainer, {childList: true});\n",
              "}}\n",
              "\n",
              "// Listen for the clearing of the current output cell\n",
              "var outputEl = gd.closest('.output');\n",
              "if (outputEl) {{\n",
              "    x.observe(outputEl, {childList: true});\n",
              "}}\n",
              "\n",
              "                        })                };                            </script>        </div>\n",
              "</body>\n",
              "</html>"
            ]
          },
          "metadata": {}
        }
      ]
    },
    {
      "cell_type": "markdown",
      "metadata": {
        "id": "IvjCgY_hxXlS"
      },
      "source": [
        "## Dados randômicos"
      ]
    },
    {
      "cell_type": "code",
      "metadata": {
        "id": "G3oogTkMhdRr"
      },
      "source": [
        "from sklearn.datasets import make_blobs#Gera dados aleatórios"
      ],
      "execution_count": 66,
      "outputs": []
    },
    {
      "cell_type": "code",
      "metadata": {
        "id": "sFdzP35lhi5w"
      },
      "source": [
        "X_random, y_random = make_blobs(n_samples=200, centers=5, random_state=1)"
      ],
      "execution_count": 67,
      "outputs": []
    },
    {
      "cell_type": "code",
      "metadata": {
        "id": "JeYBaWbfhsTY",
        "colab": {
          "base_uri": "https://localhost:8080/"
        },
        "outputId": "47ba4149-7980-4f47-c105-53243dfd09be"
      },
      "source": [
        "X_random"
      ],
      "execution_count": 68,
      "outputs": [
        {
          "output_type": "execute_result",
          "data": {
            "text/plain": [
              "array([[-1.96576392e+00,  5.23446451e+00],\n",
              "       [-5.16022348e+00, -7.04217141e+00],\n",
              "       [-6.17937069e+00, -2.16733539e+00],\n",
              "       [-7.39138168e+00, -9.49590389e+00],\n",
              "       [-6.38481234e+00, -8.47302970e+00],\n",
              "       [-6.26144310e+00, -3.78347905e+00],\n",
              "       [-2.04278768e+00,  3.07660864e-01],\n",
              "       [-4.46426086e+00, -4.39451238e+00],\n",
              "       [-6.40386190e+00, -6.36106990e+00],\n",
              "       [ 2.42271161e-04,  5.14853403e+00],\n",
              "       [-5.99212006e+00, -3.91488289e+00],\n",
              "       [-6.46137477e+00, -3.14560994e+00],\n",
              "       [-4.10185174e+00, -1.16625450e+00],\n",
              "       [-1.01341572e+01, -4.07240274e+00],\n",
              "       [-5.99004766e+00, -2.82631801e+00],\n",
              "       [-1.14663009e+00,  4.10839703e+00],\n",
              "       [-1.17104176e+00,  4.33091816e+00],\n",
              "       [-9.19585147e+00, -3.90678125e+00],\n",
              "       [-8.30173556e+00, -7.27738918e+00],\n",
              "       [-7.56309575e+00, -8.46421308e+00],\n",
              "       [-1.86845414e+00,  4.99311306e+00],\n",
              "       [-4.22362233e+00, -2.50312346e+00],\n",
              "       [-1.90838667e+00,  5.86113655e-01],\n",
              "       [-6.52897564e+00, -1.68894152e+00],\n",
              "       [-3.08653646e+00,  1.57086292e+00],\n",
              "       [-9.46824718e+00, -3.81564734e+00],\n",
              "       [-6.25393051e+00, -7.10878601e+00],\n",
              "       [-3.06167031e+00,  6.69540693e-01],\n",
              "       [-2.50687979e+00,  1.09986203e+00],\n",
              "       [-1.01786328e+01, -4.55726918e+00],\n",
              "       [-7.92619854e+00, -7.47851658e+00],\n",
              "       [-2.51338855e+00,  1.03886641e-01],\n",
              "       [-1.61734616e+00,  4.98930508e+00],\n",
              "       [-5.99829647e+00, -3.82205706e+00],\n",
              "       [-8.73907799e+00, -7.32819828e+00],\n",
              "       [-1.85139546e+00,  3.51886090e+00],\n",
              "       [-8.72395657e+00, -1.98624680e+00],\n",
              "       [-7.76528069e+00, -8.35662255e+00],\n",
              "       [-9.87589123e+00, -2.82386464e+00],\n",
              "       [-2.10001844e+00,  2.88693973e+00],\n",
              "       [-8.28462658e+00, -5.70385946e+00],\n",
              "       [-9.15155186e+00, -4.81286449e+00],\n",
              "       [-2.30108747e+00,  1.50414818e+00],\n",
              "       [-1.21136929e+00,  3.63305370e-01],\n",
              "       [-8.71560345e+00, -9.04378369e+00],\n",
              "       [-1.44666498e+00,  5.92158354e-01],\n",
              "       [-1.01842823e+01, -4.05509442e+00],\n",
              "       [-7.39126579e+00, -3.00785836e+00],\n",
              "       [-6.07854700e+00, -7.93969420e+00],\n",
              "       [-1.34392496e+00,  2.38428865e+00],\n",
              "       [-1.78245013e+00,  3.47072043e+00],\n",
              "       [-5.65299227e+00, -3.68858999e+00],\n",
              "       [-7.15207729e+00, -3.95657268e+00],\n",
              "       [-1.98197711e+00,  4.02243551e+00],\n",
              "       [-7.23022103e+00, -2.50287503e+00],\n",
              "       [-9.50250118e+00, -4.12805171e+00],\n",
              "       [ 8.52518583e-02,  3.64528297e+00],\n",
              "       [-4.57109117e+00, -1.33782924e+00],\n",
              "       [-5.65734218e+00, -8.02412652e+00],\n",
              "       [-7.18534676e+00, -9.38634884e+00],\n",
              "       [-9.59422086e+00, -3.35977002e+00],\n",
              "       [-7.05670746e+00, -3.52629444e+00],\n",
              "       [-5.47976968e+00, -3.46322378e+00],\n",
              "       [-5.65625664e+00, -3.53195739e+00],\n",
              "       [-5.50607664e+00, -8.04382541e+00],\n",
              "       [-1.97451969e-01,  2.34634916e+00],\n",
              "       [-1.35938959e+00,  4.05424002e+00],\n",
              "       [-9.47713617e+00, -5.09768994e+00],\n",
              "       [-2.47628968e+00,  2.05486276e+00],\n",
              "       [-6.50212109e+00, -7.91249101e+00],\n",
              "       [-1.00223295e+01, -4.72851017e+00],\n",
              "       [-1.21194645e+00,  8.11694777e-01],\n",
              "       [-5.95049921e+00, -8.73975204e+00],\n",
              "       [-3.60344376e+00,  3.28439495e-01],\n",
              "       [-6.13221255e-01,  1.58297832e-01],\n",
              "       [-1.03415662e+01, -3.90975169e+00],\n",
              "       [-6.56169737e+00, -6.86000222e+00],\n",
              "       [-9.06788077e+00, -1.15125665e+00],\n",
              "       [-2.34673261e+00,  3.56128423e+00],\n",
              "       [ 7.31775521e-02, -9.19931685e-03],\n",
              "       [-8.95888790e+00, -1.76636890e+00],\n",
              "       [-1.02639310e+01, -3.92073400e+00],\n",
              "       [-5.90846376e+00, -4.13337484e+00],\n",
              "       [-6.40583239e+00, -9.78066645e+00],\n",
              "       [-7.00039289e+00, -3.95655414e+00],\n",
              "       [-1.83198811e+00,  3.52863145e+00],\n",
              "       [-8.33744094e+00, -7.83968038e+00],\n",
              "       [-7.61065635e+00, -8.35206597e+00],\n",
              "       [-8.24720031e+00, -8.81898262e+00],\n",
              "       [-9.55634806e+00, -4.05350378e+00],\n",
              "       [-2.29932889e-01,  1.34071754e+00],\n",
              "       [-5.43879105e+00, -1.54542635e+00],\n",
              "       [-1.92744799e+00,  4.93684534e+00],\n",
              "       [-2.48750748e+00,  8.62799087e-01],\n",
              "       [-6.61978298e+00, -3.31962520e+00],\n",
              "       [-9.98030310e+00, -5.07536728e+00],\n",
              "       [-1.05452334e+00,  1.69635261e+00],\n",
              "       [-7.57969185e-01,  4.90898421e+00],\n",
              "       [-5.90454361e+00, -7.78373539e+00],\n",
              "       [-8.87629480e+00, -3.54444801e+00],\n",
              "       [-2.41395785e+00,  5.65935802e+00],\n",
              "       [-4.53655648e+00, -8.40186288e+00],\n",
              "       [-3.37118459e+00,  8.52715160e-01],\n",
              "       [-9.64716652e+00, -5.26563196e+00],\n",
              "       [-2.54002339e+00,  1.25394486e+00],\n",
              "       [-6.44152001e+00, -8.58818479e+00],\n",
              "       [-9.74891334e+00, -4.24998970e+00],\n",
              "       [-7.02121319e+00, -8.37954235e+00],\n",
              "       [-5.51599011e+00, -2.20387664e+00],\n",
              "       [ 5.26015501e-01,  3.00999353e+00],\n",
              "       [-3.24393866e+00, -2.26420083e+00],\n",
              "       [-6.41077310e+00, -3.88605524e+00],\n",
              "       [-8.18399758e+00, -6.19714920e+00],\n",
              "       [-1.18556944e+01, -2.71718452e+00],\n",
              "       [-5.84526963e+00, -3.69578386e+00],\n",
              "       [-2.80207810e+00,  4.05714715e+00],\n",
              "       [-1.12277706e+01, -3.40281105e+00],\n",
              "       [-3.82057616e+00,  1.49112428e+00],\n",
              "       [-5.25790464e-01,  3.30659860e+00],\n",
              "       [-7.58703957e-01,  3.72276201e+00],\n",
              "       [-6.78421711e+00, -8.22634081e+00],\n",
              "       [-9.57421815e+00, -3.87600848e+00],\n",
              "       [-1.06177133e+01, -3.25531651e+00],\n",
              "       [-4.20901245e+00, -4.55994238e+00],\n",
              "       [-1.53940095e+00,  5.02369298e+00],\n",
              "       [-9.76521794e+00, -3.27079714e+00],\n",
              "       [-6.46256290e+00, -7.73294590e+00],\n",
              "       [-2.25970786e+00,  1.58172810e+00],\n",
              "       [-4.87418245e+00, -1.00495890e+01],\n",
              "       [-4.00797392e+00,  1.12882904e+00],\n",
              "       [-5.27930518e-01,  5.92630669e+00],\n",
              "       [-1.54957690e+00, -2.00619979e+00],\n",
              "       [-4.88601638e+00, -3.75012970e+00],\n",
              "       [-6.21404558e+00, -2.87766070e+00],\n",
              "       [-1.03729975e+01, -4.59207895e+00],\n",
              "       [-9.25715605e+00, -4.90704915e+00],\n",
              "       [-7.10496767e+00, -3.96936306e+00],\n",
              "       [-2.76017908e+00,  5.55121358e+00],\n",
              "       [-3.10367371e+00,  3.90202401e+00],\n",
              "       [-5.15138361e+00, -2.78351842e+00],\n",
              "       [-6.35930380e+00, -3.38614734e+00],\n",
              "       [-5.85749377e+00, -2.30401481e+00],\n",
              "       [-1.88188805e+00,  4.20573180e+00],\n",
              "       [-2.77687025e+00,  4.64090557e+00],\n",
              "       [-2.62214524e+00,  1.71550342e+00],\n",
              "       [-7.62718761e+00, -6.19835003e+00],\n",
              "       [-3.49120594e+00,  2.54429463e+00],\n",
              "       [-2.40671820e+00,  6.09894447e+00],\n",
              "       [-6.82221274e+00, -7.95139793e+00],\n",
              "       [-6.25826821e+00, -2.91159774e+00],\n",
              "       [-3.93781149e+00,  1.69694980e+00],\n",
              "       [-5.65371307e+00, -2.13266376e+00],\n",
              "       [-1.34052081e+00,  4.15711949e+00],\n",
              "       [-2.18063570e+00,  6.00875711e-01],\n",
              "       [-6.55389349e+00, -1.46593637e+00],\n",
              "       [-1.04448411e+01, -2.72884084e+00],\n",
              "       [-8.79879462e+00, -3.76819213e+00],\n",
              "       [-9.20490564e+00, -4.57687928e+00],\n",
              "       [-1.60875215e+00,  3.76949422e+00],\n",
              "       [-7.17532921e+00, -8.77059017e+00],\n",
              "       [-1.62648417e+00,  1.89866300e+00],\n",
              "       [-1.47299851e+00,  4.81654152e+00],\n",
              "       [-1.13708298e+01, -3.63818916e+00],\n",
              "       [-1.46864442e+00,  6.50674501e+00],\n",
              "       [-2.99856517e+00,  2.43314354e-01],\n",
              "       [-9.91989138e+00, -3.33496829e+00],\n",
              "       [-8.37006175e+00, -3.61533685e+00],\n",
              "       [-1.06683748e+01, -3.57578476e+00],\n",
              "       [-5.78245922e+00, -3.76946360e+00],\n",
              "       [-2.23284936e+00,  6.02154336e-01],\n",
              "       [-1.00364080e+01, -5.56912090e+00],\n",
              "       [-1.69741870e+00,  2.00923387e+00],\n",
              "       [-2.17464201e+00,  7.84883626e-01],\n",
              "       [-6.14074758e+00, -1.88673060e+00],\n",
              "       [-8.20576492e-01,  5.33759195e+00],\n",
              "       [-8.39683385e+00, -9.91391667e+00],\n",
              "       [-1.48000390e+00,  1.10060892e+00],\n",
              "       [-6.16857305e+00, -4.61446578e+00],\n",
              "       [-7.71179887e+00, -7.25174121e+00],\n",
              "       [-1.37397258e+00,  5.29163103e+00],\n",
              "       [-7.06677367e+00, -9.54984853e+00],\n",
              "       [-2.35122066e+00,  4.00973634e+00],\n",
              "       [-1.42946517e+00,  5.16850105e+00],\n",
              "       [-5.73342507e+00, -8.44053597e+00],\n",
              "       [-1.11969805e+01, -3.09000323e+00],\n",
              "       [-1.60348642e+00, -3.99647991e-01],\n",
              "       [-1.05148070e+01, -4.95037538e+00],\n",
              "       [-2.33080604e+00,  4.39382527e+00],\n",
              "       [-1.49952284e+00,  5.28265879e+00],\n",
              "       [-7.71567180e+00, -1.85653239e+00],\n",
              "       [-7.46576038e+00, -7.32922249e+00],\n",
              "       [-2.77049102e+00,  1.96902075e+00],\n",
              "       [-1.46126019e+00,  4.52549851e+00],\n",
              "       [-9.12882635e+00, -3.20293691e+00],\n",
              "       [-1.03078293e+01, -6.38818631e+00],\n",
              "       [-2.30259245e+00,  1.93162257e+00],\n",
              "       [-5.62021562e+00, -3.13997391e+00],\n",
              "       [-2.76599494e+00,  2.39111656e-01],\n",
              "       [-5.44793258e+00, -7.65048722e+00],\n",
              "       [-1.10926243e+01, -3.78396611e+00]])"
            ]
          },
          "metadata": {},
          "execution_count": 68
        }
      ]
    },
    {
      "cell_type": "code",
      "metadata": {
        "id": "1JjGqF8whxDU",
        "colab": {
          "base_uri": "https://localhost:8080/"
        },
        "outputId": "fc67e010-4c1d-422f-dd80-85cfc873274e"
      },
      "source": [
        "y_random"
      ],
      "execution_count": 69,
      "outputs": [
        {
          "output_type": "execute_result",
          "data": {
            "text/plain": [
              "array([0, 2, 3, 2, 2, 3, 4, 3, 2, 0, 3, 3, 4, 1, 3, 0, 0, 1, 2, 2, 0, 3,\n",
              "       4, 3, 4, 1, 2, 4, 4, 1, 2, 4, 0, 3, 2, 0, 1, 2, 1, 4, 2, 1, 4, 4,\n",
              "       2, 4, 1, 3, 2, 0, 0, 3, 3, 0, 3, 1, 0, 4, 2, 2, 1, 3, 3, 3, 2, 0,\n",
              "       0, 1, 4, 2, 1, 4, 2, 4, 4, 1, 2, 3, 0, 4, 1, 1, 3, 2, 3, 0, 2, 2,\n",
              "       2, 1, 4, 3, 0, 4, 3, 1, 4, 0, 2, 1, 0, 2, 4, 1, 4, 2, 1, 2, 3, 0,\n",
              "       3, 3, 2, 1, 3, 0, 1, 4, 0, 0, 2, 1, 1, 3, 0, 1, 2, 4, 2, 4, 0, 4,\n",
              "       3, 3, 1, 1, 3, 0, 0, 3, 3, 3, 0, 0, 4, 2, 4, 0, 2, 3, 4, 3, 0, 4,\n",
              "       3, 1, 1, 1, 0, 2, 4, 0, 1, 0, 4, 1, 1, 1, 3, 4, 1, 4, 4, 3, 0, 2,\n",
              "       4, 3, 2, 0, 2, 0, 0, 2, 1, 4, 1, 0, 0, 3, 2, 4, 0, 1, 1, 4, 3, 4,\n",
              "       2, 1])"
            ]
          },
          "metadata": {},
          "execution_count": 69
        }
      ]
    },
    {
      "cell_type": "code",
      "metadata": {
        "id": "gbFY8T8ih5x_",
        "colab": {
          "base_uri": "https://localhost:8080/",
          "height": 542
        },
        "outputId": "103ed3d0-3bad-41b1-8751-c057aa3a8f5a"
      },
      "source": [
        "grafico = px.scatter(x = X_random[:,0], y = X_random[:,1])\n",
        "grafico.show()"
      ],
      "execution_count": 70,
      "outputs": [
        {
          "output_type": "display_data",
          "data": {
            "text/html": [
              "<html>\n",
              "<head><meta charset=\"utf-8\" /></head>\n",
              "<body>\n",
              "    <div>            <script src=\"https://cdnjs.cloudflare.com/ajax/libs/mathjax/2.7.5/MathJax.js?config=TeX-AMS-MML_SVG\"></script><script type=\"text/javascript\">if (window.MathJax && window.MathJax.Hub && window.MathJax.Hub.Config) {window.MathJax.Hub.Config({SVG: {font: \"STIX-Web\"}});}</script>                <script type=\"text/javascript\">window.PlotlyConfig = {MathJaxConfig: 'local'};</script>\n",
              "        <script src=\"https://cdn.plot.ly/plotly-2.14.0.min.js\"></script>                <div id=\"dbc6c0c9-7f80-43b1-bd20-96eea0a926ca\" class=\"plotly-graph-div\" style=\"height:525px; width:100%;\"></div>            <script type=\"text/javascript\">                                    window.PLOTLYENV=window.PLOTLYENV || {};                                    if (document.getElementById(\"dbc6c0c9-7f80-43b1-bd20-96eea0a926ca\")) {                    Plotly.newPlot(                        \"dbc6c0c9-7f80-43b1-bd20-96eea0a926ca\",                        [{\"hovertemplate\":\"x=%{x}<br>y=%{y}<extra></extra>\",\"legendgroup\":\"\",\"marker\":{\"color\":\"#636efa\",\"symbol\":\"circle\"},\"mode\":\"markers\",\"name\":\"\",\"orientation\":\"v\",\"showlegend\":false,\"x\":[-1.9657639185768914,-5.160223475316758,-6.179370685255325,-7.391381681735923,-6.384812343779634,-6.261443096099406,-2.0427876787600487,-4.464260858321126,-6.403861896059046,0.00024227116135100424,-5.992120060198162,-6.461374765958048,-4.101851741067396,-10.134157247549135,-5.990047661597524,-1.1466300855305107,-1.1710417594110225,-9.195851471781756,-8.301735560199136,-7.563095747288817,-1.8684541393232976,-4.223622329589138,-1.908386665116518,-6.52897564005395,-3.0865364600279106,-9.468247179300391,-6.2539305108541825,-3.0616703109162837,-2.506879794899774,-10.178632805731251,-7.926198544433781,-2.513388548058224,-1.6173461592329268,-5.998296467624399,-8.739077991276671,-1.8513954583101344,-8.723956573494325,-7.765280688578994,-9.875891232661665,-2.100018440265312,-8.284626580636772,-9.151551856068068,-2.301087467199588,-1.211369293430979,-8.715603449481838,-1.4466649814662667,-10.18428227556045,-7.391265790331326,-6.078546995836497,-1.3439249587069142,-1.7824501314671677,-5.65299226814101,-7.152077291364771,-1.9819771099620271,-7.230221034820271,-9.502501179675141,0.08525185826796045,-4.5710911680626625,-5.65734218341651,-7.185346755446246,-9.5942208618623,-7.056707455133383,-5.4797696780217375,-5.656256641660289,-5.506076643037879,-0.19745196890354544,-1.359389585992692,-9.477136166579731,-2.4762896785750836,-6.502121087038712,-10.02232945952888,-1.211946453661315,-5.9504992068779465,-3.6034437611312446,-0.6132212547956659,-10.341566179224177,-6.561697370222412,-9.067880772593123,-2.346732606068119,0.07317755205288101,-8.958887901793688,-10.263931009656723,-5.9084637579065244,-6.4058323875575285,-7.00039289158101,-1.8319881134989553,-8.337440938903733,-7.610656351640307,-8.247200310167372,-9.556348060084519,-0.22993288873691453,-5.438791053012314,-1.9274479855745354,-2.4875074767773766,-6.619782982601562,-9.980303095353097,-1.0545233380518768,-0.757969185355724,-5.904543613663969,-8.876294795417436,-2.4139578469451726,-4.536556476851341,-3.3711845882306197,-9.647166524988995,-2.5400233905245835,-6.441520007079706,-9.74891334226533,-7.02121319047935,-5.515990112348652,0.5260155005846419,-3.243938660074552,-6.410773098547172,-8.183997582217467,-11.855694368099854,-5.845269632424618,-2.8020781039706595,-11.227770639320063,-3.8205761556194533,-0.5257904636130821,-0.7587039566841077,-6.7842171065351,-9.574218149588988,-10.617713347601232,-4.209012452227748,-1.5394009534668904,-9.765217944474363,-6.46256290336211,-2.2597078562625024,-4.874182454688006,-4.007973921054954,-0.5279305184970926,-1.5495769017472356,-4.886016376076314,-6.2140455766470755,-10.372997453743215,-9.257156052556827,-7.104967667761696,-2.760179083161441,-3.103673711378109,-5.151383610424647,-6.3593037998512125,-5.85749376747172,-1.8818880485588787,-2.7768702545837973,-2.622145237172645,-7.627187614676829,-3.491205935907133,-2.406718199699357,-6.822212742575944,-6.258268205140967,-3.937811493021903,-5.653713071607574,-1.340520809891421,-2.1806357008589976,-6.5538934939898725,-10.4448410684391,-8.798794623751593,-9.204905637733754,-1.6087521511724905,-7.175329210075055,-1.626484168095364,-1.4729985149602352,-11.370829823899857,-1.4686444212810534,-2.9985651710131025,-9.919891375740395,-8.370061750504195,-10.668374789942131,-5.782459216509934,-2.232849355131317,-10.036408012919152,-1.6974187015027367,-2.1746420055502083,-6.140747575891959,-0.8205764920740146,-8.396833850174987,-1.480003904909175,-6.168573048411365,-7.711798871912647,-1.3739725806942609,-7.066773666495743,-2.351220657673829,-1.4294651705841361,-5.733425071070147,-11.196980535988288,-1.6034864154095838,-10.51480696157333,-2.3308060367853387,-1.499522836500689,-7.715671796738422,-7.465760375446665,-2.7704910227888853,-1.4612601858217498,-9.128826346647234,-10.30782927717116,-2.302592451138784,-5.620215619859882,-2.765994941643778,-5.447932584800439,-11.092624349394143],\"xaxis\":\"x\",\"y\":[5.234464511450407,-7.04217140606354,-2.167335390479533,-9.495903894001481,-8.473029703522716,-3.783479054426271,0.30766086378924756,-4.394512381696782,-6.361069895648478,5.148534029420497,-3.914882890986365,-3.145609940024892,-1.1662545014093166,-4.072402735138015,-2.826318013675776,4.108397033740446,4.330918155822106,-3.906781248939059,-7.277389176974745,-8.464213082926896,4.993113060025359,-2.5031234589666624,0.5861136549822774,-1.6889415166580588,1.5708629196682211,-3.8156473373658186,-7.108786009916786,0.6695406932879138,1.099862033668571,-4.557269175156462,-7.478516578936072,0.10388664128054259,4.9893050825589835,-3.8220570630343573,-7.328198280185059,3.5188609047583252,-1.98624679810847,-8.356622553588604,-2.823864639451285,2.8869397336678486,-5.703859455562648,-4.812864488195191,1.5041481800667877,0.3633053703561067,-9.043783688787093,0.5921583544133936,-4.05509441989235,-3.007858358165766,-7.939694203288603,2.3842886530191585,3.4707204345840927,-3.688589990209892,-3.9565726820119704,4.022435514174746,-2.502875028036429,-4.128051707105706,3.6452829679480585,-1.337829241849687,-8.024126524913319,-9.386348840070472,-3.3597700241261377,-3.5262944419676256,-3.4632237779822654,-3.5319573898396825,-8.043825408198616,2.3463491593455075,4.054240022349643,-5.097689936986347,2.0548627629088605,-7.912491012386313,-4.728510166532364,0.8116947771218962,-8.739752043445637,0.3284394953510203,0.15829783238556006,-3.9097516905289575,-6.860002222091783,-1.151256645522965,3.561284227344442,-0.009199316853096606,-1.766368900388947,-3.920734000669846,-4.1333748410468365,-9.780666445240302,-3.956554136762635,3.5286314509217895,-7.839680384160613,-8.352065967512942,-8.818982622823171,-4.053503780646705,1.3407175355614527,-1.545426348334561,4.9368453355813475,0.8627990865914263,-3.3196252022745143,-5.075367276110093,1.696352613314902,4.908984207745029,-7.783735388248322,-3.544448009426377,5.659358024076449,-8.401862882339504,0.8527151602267309,-5.265631958600636,1.2539448618846962,-8.588184787579273,-4.249989699734067,-8.379542347137651,-2.2038766446741613,3.009993533355024,-2.264200834105587,-3.8860552446321743,-6.1971492009204034,-2.7171845169103843,-3.695783857339091,4.057147146430284,-3.402811051386989,1.4911242775529543,3.3065986015291307,3.7227620096688283,-8.226340808371322,-3.8760084790146454,-3.255316513290986,-4.55994238497167,5.023692978550581,-3.2707971404987193,-7.732945900976985,1.5817281042993203,-10.049589027515138,1.128829044436472,5.92630668526536,-2.0061997875857838,-3.7501297022920634,-2.877660704131328,-4.592078954817427,-4.907049149171139,-3.9693630589832156,5.551213578682775,3.90202400589671,-2.783518418895034,-3.3861473419125483,-2.3040148081234553,4.205731799913164,4.640905566660254,1.7155034242636267,-6.1983500296150105,2.5442946283781653,6.098944469870908,-7.951397925750041,-2.911597738863084,1.6969497981220951,-2.1326637550143484,4.157119493365752,0.6008757114053863,-1.4659363731850437,-2.7288408425577058,-3.7681921298792607,-4.5768792770429965,3.769494222273808,-8.770590168336406,1.8986630017242312,4.816541516051418,-3.6381891553209127,6.506745005322004,0.24331435398353962,-3.3349682853646803,-3.615336850788729,-3.5757847610422853,-3.7694636001479305,0.6021543357591482,-5.5691209020665,2.0092338724433763,0.7848836255031636,-1.8867305969393389,5.337591950146718,-9.913916665022828,1.1006089235155598,-4.614465775368402,-7.251741212975334,5.291631033113889,-9.549848529219476,4.0097363419871845,5.168501049155187,-8.440535968100065,-3.090003229819183,-0.3996479913741764,-4.950375375013468,4.39382526992426,5.282658789959386,-1.8565323883106086,-7.329222486173637,1.9690207478218325,4.525498514650621,-3.2029369074981964,-6.388186311470344,1.931622566155364,-3.1399739067467087,0.23911165619180053,-7.6504872226241405,-3.7839661143045364],\"yaxis\":\"y\",\"type\":\"scatter\"}],                        {\"template\":{\"data\":{\"histogram2dcontour\":[{\"type\":\"histogram2dcontour\",\"colorbar\":{\"outlinewidth\":0,\"ticks\":\"\"},\"colorscale\":[[0.0,\"#0d0887\"],[0.1111111111111111,\"#46039f\"],[0.2222222222222222,\"#7201a8\"],[0.3333333333333333,\"#9c179e\"],[0.4444444444444444,\"#bd3786\"],[0.5555555555555556,\"#d8576b\"],[0.6666666666666666,\"#ed7953\"],[0.7777777777777778,\"#fb9f3a\"],[0.8888888888888888,\"#fdca26\"],[1.0,\"#f0f921\"]]}],\"choropleth\":[{\"type\":\"choropleth\",\"colorbar\":{\"outlinewidth\":0,\"ticks\":\"\"}}],\"histogram2d\":[{\"type\":\"histogram2d\",\"colorbar\":{\"outlinewidth\":0,\"ticks\":\"\"},\"colorscale\":[[0.0,\"#0d0887\"],[0.1111111111111111,\"#46039f\"],[0.2222222222222222,\"#7201a8\"],[0.3333333333333333,\"#9c179e\"],[0.4444444444444444,\"#bd3786\"],[0.5555555555555556,\"#d8576b\"],[0.6666666666666666,\"#ed7953\"],[0.7777777777777778,\"#fb9f3a\"],[0.8888888888888888,\"#fdca26\"],[1.0,\"#f0f921\"]]}],\"heatmap\":[{\"type\":\"heatmap\",\"colorbar\":{\"outlinewidth\":0,\"ticks\":\"\"},\"colorscale\":[[0.0,\"#0d0887\"],[0.1111111111111111,\"#46039f\"],[0.2222222222222222,\"#7201a8\"],[0.3333333333333333,\"#9c179e\"],[0.4444444444444444,\"#bd3786\"],[0.5555555555555556,\"#d8576b\"],[0.6666666666666666,\"#ed7953\"],[0.7777777777777778,\"#fb9f3a\"],[0.8888888888888888,\"#fdca26\"],[1.0,\"#f0f921\"]]}],\"heatmapgl\":[{\"type\":\"heatmapgl\",\"colorbar\":{\"outlinewidth\":0,\"ticks\":\"\"},\"colorscale\":[[0.0,\"#0d0887\"],[0.1111111111111111,\"#46039f\"],[0.2222222222222222,\"#7201a8\"],[0.3333333333333333,\"#9c179e\"],[0.4444444444444444,\"#bd3786\"],[0.5555555555555556,\"#d8576b\"],[0.6666666666666666,\"#ed7953\"],[0.7777777777777778,\"#fb9f3a\"],[0.8888888888888888,\"#fdca26\"],[1.0,\"#f0f921\"]]}],\"contourcarpet\":[{\"type\":\"contourcarpet\",\"colorbar\":{\"outlinewidth\":0,\"ticks\":\"\"}}],\"contour\":[{\"type\":\"contour\",\"colorbar\":{\"outlinewidth\":0,\"ticks\":\"\"},\"colorscale\":[[0.0,\"#0d0887\"],[0.1111111111111111,\"#46039f\"],[0.2222222222222222,\"#7201a8\"],[0.3333333333333333,\"#9c179e\"],[0.4444444444444444,\"#bd3786\"],[0.5555555555555556,\"#d8576b\"],[0.6666666666666666,\"#ed7953\"],[0.7777777777777778,\"#fb9f3a\"],[0.8888888888888888,\"#fdca26\"],[1.0,\"#f0f921\"]]}],\"surface\":[{\"type\":\"surface\",\"colorbar\":{\"outlinewidth\":0,\"ticks\":\"\"},\"colorscale\":[[0.0,\"#0d0887\"],[0.1111111111111111,\"#46039f\"],[0.2222222222222222,\"#7201a8\"],[0.3333333333333333,\"#9c179e\"],[0.4444444444444444,\"#bd3786\"],[0.5555555555555556,\"#d8576b\"],[0.6666666666666666,\"#ed7953\"],[0.7777777777777778,\"#fb9f3a\"],[0.8888888888888888,\"#fdca26\"],[1.0,\"#f0f921\"]]}],\"mesh3d\":[{\"type\":\"mesh3d\",\"colorbar\":{\"outlinewidth\":0,\"ticks\":\"\"}}],\"scatter\":[{\"fillpattern\":{\"fillmode\":\"overlay\",\"size\":10,\"solidity\":0.2},\"type\":\"scatter\"}],\"parcoords\":[{\"type\":\"parcoords\",\"line\":{\"colorbar\":{\"outlinewidth\":0,\"ticks\":\"\"}}}],\"scatterpolargl\":[{\"type\":\"scatterpolargl\",\"marker\":{\"colorbar\":{\"outlinewidth\":0,\"ticks\":\"\"}}}],\"bar\":[{\"error_x\":{\"color\":\"#2a3f5f\"},\"error_y\":{\"color\":\"#2a3f5f\"},\"marker\":{\"line\":{\"color\":\"#E5ECF6\",\"width\":0.5},\"pattern\":{\"fillmode\":\"overlay\",\"size\":10,\"solidity\":0.2}},\"type\":\"bar\"}],\"scattergeo\":[{\"type\":\"scattergeo\",\"marker\":{\"colorbar\":{\"outlinewidth\":0,\"ticks\":\"\"}}}],\"scatterpolar\":[{\"type\":\"scatterpolar\",\"marker\":{\"colorbar\":{\"outlinewidth\":0,\"ticks\":\"\"}}}],\"histogram\":[{\"marker\":{\"pattern\":{\"fillmode\":\"overlay\",\"size\":10,\"solidity\":0.2}},\"type\":\"histogram\"}],\"scattergl\":[{\"type\":\"scattergl\",\"marker\":{\"colorbar\":{\"outlinewidth\":0,\"ticks\":\"\"}}}],\"scatter3d\":[{\"type\":\"scatter3d\",\"line\":{\"colorbar\":{\"outlinewidth\":0,\"ticks\":\"\"}},\"marker\":{\"colorbar\":{\"outlinewidth\":0,\"ticks\":\"\"}}}],\"scattermapbox\":[{\"type\":\"scattermapbox\",\"marker\":{\"colorbar\":{\"outlinewidth\":0,\"ticks\":\"\"}}}],\"scatterternary\":[{\"type\":\"scatterternary\",\"marker\":{\"colorbar\":{\"outlinewidth\":0,\"ticks\":\"\"}}}],\"scattercarpet\":[{\"type\":\"scattercarpet\",\"marker\":{\"colorbar\":{\"outlinewidth\":0,\"ticks\":\"\"}}}],\"carpet\":[{\"aaxis\":{\"endlinecolor\":\"#2a3f5f\",\"gridcolor\":\"white\",\"linecolor\":\"white\",\"minorgridcolor\":\"white\",\"startlinecolor\":\"#2a3f5f\"},\"baxis\":{\"endlinecolor\":\"#2a3f5f\",\"gridcolor\":\"white\",\"linecolor\":\"white\",\"minorgridcolor\":\"white\",\"startlinecolor\":\"#2a3f5f\"},\"type\":\"carpet\"}],\"table\":[{\"cells\":{\"fill\":{\"color\":\"#EBF0F8\"},\"line\":{\"color\":\"white\"}},\"header\":{\"fill\":{\"color\":\"#C8D4E3\"},\"line\":{\"color\":\"white\"}},\"type\":\"table\"}],\"barpolar\":[{\"marker\":{\"line\":{\"color\":\"#E5ECF6\",\"width\":0.5},\"pattern\":{\"fillmode\":\"overlay\",\"size\":10,\"solidity\":0.2}},\"type\":\"barpolar\"}],\"pie\":[{\"automargin\":true,\"type\":\"pie\"}]},\"layout\":{\"autotypenumbers\":\"strict\",\"colorway\":[\"#636efa\",\"#EF553B\",\"#00cc96\",\"#ab63fa\",\"#FFA15A\",\"#19d3f3\",\"#FF6692\",\"#B6E880\",\"#FF97FF\",\"#FECB52\"],\"font\":{\"color\":\"#2a3f5f\"},\"hovermode\":\"closest\",\"hoverlabel\":{\"align\":\"left\"},\"paper_bgcolor\":\"white\",\"plot_bgcolor\":\"#E5ECF6\",\"polar\":{\"bgcolor\":\"#E5ECF6\",\"angularaxis\":{\"gridcolor\":\"white\",\"linecolor\":\"white\",\"ticks\":\"\"},\"radialaxis\":{\"gridcolor\":\"white\",\"linecolor\":\"white\",\"ticks\":\"\"}},\"ternary\":{\"bgcolor\":\"#E5ECF6\",\"aaxis\":{\"gridcolor\":\"white\",\"linecolor\":\"white\",\"ticks\":\"\"},\"baxis\":{\"gridcolor\":\"white\",\"linecolor\":\"white\",\"ticks\":\"\"},\"caxis\":{\"gridcolor\":\"white\",\"linecolor\":\"white\",\"ticks\":\"\"}},\"coloraxis\":{\"colorbar\":{\"outlinewidth\":0,\"ticks\":\"\"}},\"colorscale\":{\"sequential\":[[0.0,\"#0d0887\"],[0.1111111111111111,\"#46039f\"],[0.2222222222222222,\"#7201a8\"],[0.3333333333333333,\"#9c179e\"],[0.4444444444444444,\"#bd3786\"],[0.5555555555555556,\"#d8576b\"],[0.6666666666666666,\"#ed7953\"],[0.7777777777777778,\"#fb9f3a\"],[0.8888888888888888,\"#fdca26\"],[1.0,\"#f0f921\"]],\"sequentialminus\":[[0.0,\"#0d0887\"],[0.1111111111111111,\"#46039f\"],[0.2222222222222222,\"#7201a8\"],[0.3333333333333333,\"#9c179e\"],[0.4444444444444444,\"#bd3786\"],[0.5555555555555556,\"#d8576b\"],[0.6666666666666666,\"#ed7953\"],[0.7777777777777778,\"#fb9f3a\"],[0.8888888888888888,\"#fdca26\"],[1.0,\"#f0f921\"]],\"diverging\":[[0,\"#8e0152\"],[0.1,\"#c51b7d\"],[0.2,\"#de77ae\"],[0.3,\"#f1b6da\"],[0.4,\"#fde0ef\"],[0.5,\"#f7f7f7\"],[0.6,\"#e6f5d0\"],[0.7,\"#b8e186\"],[0.8,\"#7fbc41\"],[0.9,\"#4d9221\"],[1,\"#276419\"]]},\"xaxis\":{\"gridcolor\":\"white\",\"linecolor\":\"white\",\"ticks\":\"\",\"title\":{\"standoff\":15},\"zerolinecolor\":\"white\",\"automargin\":true,\"zerolinewidth\":2},\"yaxis\":{\"gridcolor\":\"white\",\"linecolor\":\"white\",\"ticks\":\"\",\"title\":{\"standoff\":15},\"zerolinecolor\":\"white\",\"automargin\":true,\"zerolinewidth\":2},\"scene\":{\"xaxis\":{\"backgroundcolor\":\"#E5ECF6\",\"gridcolor\":\"white\",\"linecolor\":\"white\",\"showbackground\":true,\"ticks\":\"\",\"zerolinecolor\":\"white\",\"gridwidth\":2},\"yaxis\":{\"backgroundcolor\":\"#E5ECF6\",\"gridcolor\":\"white\",\"linecolor\":\"white\",\"showbackground\":true,\"ticks\":\"\",\"zerolinecolor\":\"white\",\"gridwidth\":2},\"zaxis\":{\"backgroundcolor\":\"#E5ECF6\",\"gridcolor\":\"white\",\"linecolor\":\"white\",\"showbackground\":true,\"ticks\":\"\",\"zerolinecolor\":\"white\",\"gridwidth\":2}},\"shapedefaults\":{\"line\":{\"color\":\"#2a3f5f\"}},\"annotationdefaults\":{\"arrowcolor\":\"#2a3f5f\",\"arrowhead\":0,\"arrowwidth\":1},\"geo\":{\"bgcolor\":\"white\",\"landcolor\":\"#E5ECF6\",\"subunitcolor\":\"white\",\"showland\":true,\"showlakes\":true,\"lakecolor\":\"white\"},\"title\":{\"x\":0.05},\"mapbox\":{\"style\":\"light\"}}},\"xaxis\":{\"anchor\":\"y\",\"domain\":[0.0,1.0],\"title\":{\"text\":\"x\"}},\"yaxis\":{\"anchor\":\"x\",\"domain\":[0.0,1.0],\"title\":{\"text\":\"y\"}},\"legend\":{\"tracegroupgap\":0},\"margin\":{\"t\":60}},                        {\"responsive\": true}                    ).then(function(){\n",
              "                            \n",
              "var gd = document.getElementById('dbc6c0c9-7f80-43b1-bd20-96eea0a926ca');\n",
              "var x = new MutationObserver(function (mutations, observer) {{\n",
              "        var display = window.getComputedStyle(gd).display;\n",
              "        if (!display || display === 'none') {{\n",
              "            console.log([gd, 'removed!']);\n",
              "            Plotly.purge(gd);\n",
              "            observer.disconnect();\n",
              "        }}\n",
              "}});\n",
              "\n",
              "// Listen for the removal of the full notebook cells\n",
              "var notebookContainer = gd.closest('#notebook-container');\n",
              "if (notebookContainer) {{\n",
              "    x.observe(notebookContainer, {childList: true});\n",
              "}}\n",
              "\n",
              "// Listen for the clearing of the current output cell\n",
              "var outputEl = gd.closest('.output');\n",
              "if (outputEl) {{\n",
              "    x.observe(outputEl, {childList: true});\n",
              "}}\n",
              "\n",
              "                        })                };                            </script>        </div>\n",
              "</body>\n",
              "</html>"
            ]
          },
          "metadata": {}
        }
      ]
    },
    {
      "cell_type": "code",
      "metadata": {
        "id": "TeCCqI-KiXF3",
        "colab": {
          "base_uri": "https://localhost:8080/"
        },
        "outputId": "bf929144-1a5a-470b-b1b8-79f9cf4dbbf9"
      },
      "source": [
        "kmeans_blobs = KMeans(n_clusters=5)\n",
        "kmeans_blobs.fit(X_random)"
      ],
      "execution_count": 71,
      "outputs": [
        {
          "output_type": "execute_result",
          "data": {
            "text/plain": [
              "KMeans(n_clusters=5)"
            ]
          },
          "metadata": {},
          "execution_count": 71
        }
      ]
    },
    {
      "cell_type": "code",
      "metadata": {
        "id": "lWrnLMHtiege",
        "colab": {
          "base_uri": "https://localhost:8080/"
        },
        "outputId": "9e7cb4ba-29c2-4387-c1b0-f0bb7b5b4448"
      },
      "source": [
        "rotulos = kmeans_blobs.predict(X_random)\n",
        "rotulos"
      ],
      "execution_count": 72,
      "outputs": [
        {
          "output_type": "execute_result",
          "data": {
            "text/plain": [
              "array([0, 1, 2, 1, 1, 2, 4, 2, 1, 0, 2, 2, 2, 3, 2, 0, 0, 3, 1, 1, 0, 2,\n",
              "       4, 2, 4, 3, 1, 4, 4, 3, 1, 4, 0, 2, 1, 0, 3, 1, 3, 0, 3, 3, 4, 4,\n",
              "       1, 4, 3, 2, 1, 4, 0, 2, 2, 0, 2, 3, 0, 2, 1, 1, 3, 2, 2, 2, 1, 4,\n",
              "       0, 3, 4, 1, 3, 4, 1, 4, 4, 3, 1, 3, 0, 4, 3, 3, 2, 1, 2, 0, 1, 1,\n",
              "       1, 3, 4, 2, 0, 4, 2, 3, 4, 0, 1, 3, 0, 1, 4, 3, 4, 1, 3, 1, 2, 0,\n",
              "       2, 2, 1, 3, 2, 0, 3, 4, 0, 0, 1, 3, 3, 2, 0, 3, 1, 4, 1, 4, 0, 4,\n",
              "       2, 2, 3, 3, 2, 0, 0, 2, 2, 2, 0, 0, 4, 1, 4, 0, 1, 2, 4, 2, 0, 4,\n",
              "       2, 3, 3, 3, 0, 1, 4, 0, 3, 0, 4, 3, 3, 3, 2, 4, 3, 4, 4, 2, 0, 1,\n",
              "       4, 2, 1, 0, 1, 0, 0, 1, 3, 4, 3, 0, 0, 2, 1, 4, 0, 3, 3, 4, 2, 4,\n",
              "       1, 3], dtype=int32)"
            ]
          },
          "metadata": {},
          "execution_count": 72
        }
      ]
    },
    {
      "cell_type": "code",
      "metadata": {
        "id": "Vk0VJWdTimle",
        "colab": {
          "base_uri": "https://localhost:8080/"
        },
        "outputId": "a8b05925-0fd4-427d-a331-e0b89b017b70"
      },
      "source": [
        "centroides = kmeans_blobs.cluster_centers_\n",
        "centroides"
      ],
      "execution_count": 73,
      "outputs": [
        {
          "output_type": "execute_result",
          "data": {
            "text/plain": [
              "array([[-1.58338528,  4.50520457],\n",
              "       [-6.87958999, -8.11648104],\n",
              "       [-5.90368078, -3.04489641],\n",
              "       [-9.85620522, -3.91021738],\n",
              "       [-2.17069756,  1.02591979]])"
            ]
          },
          "metadata": {},
          "execution_count": 73
        }
      ]
    },
    {
      "cell_type": "code",
      "metadata": {
        "id": "rO3JGCUvisob",
        "colab": {
          "base_uri": "https://localhost:8080/",
          "height": 542
        },
        "outputId": "c30d7816-5b0e-4e09-94c8-7df713e0e714"
      },
      "source": [
        "grafico1 = px.scatter(x = X_random[:,0], y = X_random[:,1], color = rotulos)\n",
        "grafico2 = px.scatter(x = centroides[:,0], y = centroides[:,1], size = [5, 5, 5, 5, 5])\n",
        "grafico3 = go.Figure(data = grafico1.data + grafico2.data)\n",
        "grafico3.show()"
      ],
      "execution_count": 74,
      "outputs": [
        {
          "output_type": "display_data",
          "data": {
            "text/html": [
              "<html>\n",
              "<head><meta charset=\"utf-8\" /></head>\n",
              "<body>\n",
              "    <div>            <script src=\"https://cdnjs.cloudflare.com/ajax/libs/mathjax/2.7.5/MathJax.js?config=TeX-AMS-MML_SVG\"></script><script type=\"text/javascript\">if (window.MathJax && window.MathJax.Hub && window.MathJax.Hub.Config) {window.MathJax.Hub.Config({SVG: {font: \"STIX-Web\"}});}</script>                <script type=\"text/javascript\">window.PlotlyConfig = {MathJaxConfig: 'local'};</script>\n",
              "        <script src=\"https://cdn.plot.ly/plotly-2.14.0.min.js\"></script>                <div id=\"a63f5bd8-c57a-4261-8988-6c0ae038bdac\" class=\"plotly-graph-div\" style=\"height:525px; width:100%;\"></div>            <script type=\"text/javascript\">                                    window.PLOTLYENV=window.PLOTLYENV || {};                                    if (document.getElementById(\"a63f5bd8-c57a-4261-8988-6c0ae038bdac\")) {                    Plotly.newPlot(                        \"a63f5bd8-c57a-4261-8988-6c0ae038bdac\",                        [{\"hovertemplate\":\"x=%{x}<br>y=%{y}<br>color=%{marker.color}<extra></extra>\",\"legendgroup\":\"\",\"marker\":{\"color\":[0,1,2,1,1,2,4,2,1,0,2,2,2,3,2,0,0,3,1,1,0,2,4,2,4,3,1,4,4,3,1,4,0,2,1,0,3,1,3,0,3,3,4,4,1,4,3,2,1,4,0,2,2,0,2,3,0,2,1,1,3,2,2,2,1,4,0,3,4,1,3,4,1,4,4,3,1,3,0,4,3,3,2,1,2,0,1,1,1,3,4,2,0,4,2,3,4,0,1,3,0,1,4,3,4,1,3,1,2,0,2,2,1,3,2,0,3,4,0,0,1,3,3,2,0,3,1,4,1,4,0,4,2,2,3,3,2,0,0,2,2,2,0,0,4,1,4,0,1,2,4,2,0,4,2,3,3,3,0,1,4,0,3,0,4,3,3,3,2,4,3,4,4,2,0,1,4,2,1,0,1,0,0,1,3,4,3,0,0,2,1,4,0,3,3,4,2,4,1,3],\"coloraxis\":\"coloraxis\",\"symbol\":\"circle\"},\"mode\":\"markers\",\"name\":\"\",\"orientation\":\"v\",\"showlegend\":false,\"x\":[-1.9657639185768914,-5.160223475316758,-6.179370685255325,-7.391381681735923,-6.384812343779634,-6.261443096099406,-2.0427876787600487,-4.464260858321126,-6.403861896059046,0.00024227116135100424,-5.992120060198162,-6.461374765958048,-4.101851741067396,-10.134157247549135,-5.990047661597524,-1.1466300855305107,-1.1710417594110225,-9.195851471781756,-8.301735560199136,-7.563095747288817,-1.8684541393232976,-4.223622329589138,-1.908386665116518,-6.52897564005395,-3.0865364600279106,-9.468247179300391,-6.2539305108541825,-3.0616703109162837,-2.506879794899774,-10.178632805731251,-7.926198544433781,-2.513388548058224,-1.6173461592329268,-5.998296467624399,-8.739077991276671,-1.8513954583101344,-8.723956573494325,-7.765280688578994,-9.875891232661665,-2.100018440265312,-8.284626580636772,-9.151551856068068,-2.301087467199588,-1.211369293430979,-8.715603449481838,-1.4466649814662667,-10.18428227556045,-7.391265790331326,-6.078546995836497,-1.3439249587069142,-1.7824501314671677,-5.65299226814101,-7.152077291364771,-1.9819771099620271,-7.230221034820271,-9.502501179675141,0.08525185826796045,-4.5710911680626625,-5.65734218341651,-7.185346755446246,-9.5942208618623,-7.056707455133383,-5.4797696780217375,-5.656256641660289,-5.506076643037879,-0.19745196890354544,-1.359389585992692,-9.477136166579731,-2.4762896785750836,-6.502121087038712,-10.02232945952888,-1.211946453661315,-5.9504992068779465,-3.6034437611312446,-0.6132212547956659,-10.341566179224177,-6.561697370222412,-9.067880772593123,-2.346732606068119,0.07317755205288101,-8.958887901793688,-10.263931009656723,-5.9084637579065244,-6.4058323875575285,-7.00039289158101,-1.8319881134989553,-8.337440938903733,-7.610656351640307,-8.247200310167372,-9.556348060084519,-0.22993288873691453,-5.438791053012314,-1.9274479855745354,-2.4875074767773766,-6.619782982601562,-9.980303095353097,-1.0545233380518768,-0.757969185355724,-5.904543613663969,-8.876294795417436,-2.4139578469451726,-4.536556476851341,-3.3711845882306197,-9.647166524988995,-2.5400233905245835,-6.441520007079706,-9.74891334226533,-7.02121319047935,-5.515990112348652,0.5260155005846419,-3.243938660074552,-6.410773098547172,-8.183997582217467,-11.855694368099854,-5.845269632424618,-2.8020781039706595,-11.227770639320063,-3.8205761556194533,-0.5257904636130821,-0.7587039566841077,-6.7842171065351,-9.574218149588988,-10.617713347601232,-4.209012452227748,-1.5394009534668904,-9.765217944474363,-6.46256290336211,-2.2597078562625024,-4.874182454688006,-4.007973921054954,-0.5279305184970926,-1.5495769017472356,-4.886016376076314,-6.2140455766470755,-10.372997453743215,-9.257156052556827,-7.104967667761696,-2.760179083161441,-3.103673711378109,-5.151383610424647,-6.3593037998512125,-5.85749376747172,-1.8818880485588787,-2.7768702545837973,-2.622145237172645,-7.627187614676829,-3.491205935907133,-2.406718199699357,-6.822212742575944,-6.258268205140967,-3.937811493021903,-5.653713071607574,-1.340520809891421,-2.1806357008589976,-6.5538934939898725,-10.4448410684391,-8.798794623751593,-9.204905637733754,-1.6087521511724905,-7.175329210075055,-1.626484168095364,-1.4729985149602352,-11.370829823899857,-1.4686444212810534,-2.9985651710131025,-9.919891375740395,-8.370061750504195,-10.668374789942131,-5.782459216509934,-2.232849355131317,-10.036408012919152,-1.6974187015027367,-2.1746420055502083,-6.140747575891959,-0.8205764920740146,-8.396833850174987,-1.480003904909175,-6.168573048411365,-7.711798871912647,-1.3739725806942609,-7.066773666495743,-2.351220657673829,-1.4294651705841361,-5.733425071070147,-11.196980535988288,-1.6034864154095838,-10.51480696157333,-2.3308060367853387,-1.499522836500689,-7.715671796738422,-7.465760375446665,-2.7704910227888853,-1.4612601858217498,-9.128826346647234,-10.30782927717116,-2.302592451138784,-5.620215619859882,-2.765994941643778,-5.447932584800439,-11.092624349394143],\"xaxis\":\"x\",\"y\":[5.234464511450407,-7.04217140606354,-2.167335390479533,-9.495903894001481,-8.473029703522716,-3.783479054426271,0.30766086378924756,-4.394512381696782,-6.361069895648478,5.148534029420497,-3.914882890986365,-3.145609940024892,-1.1662545014093166,-4.072402735138015,-2.826318013675776,4.108397033740446,4.330918155822106,-3.906781248939059,-7.277389176974745,-8.464213082926896,4.993113060025359,-2.5031234589666624,0.5861136549822774,-1.6889415166580588,1.5708629196682211,-3.8156473373658186,-7.108786009916786,0.6695406932879138,1.099862033668571,-4.557269175156462,-7.478516578936072,0.10388664128054259,4.9893050825589835,-3.8220570630343573,-7.328198280185059,3.5188609047583252,-1.98624679810847,-8.356622553588604,-2.823864639451285,2.8869397336678486,-5.703859455562648,-4.812864488195191,1.5041481800667877,0.3633053703561067,-9.043783688787093,0.5921583544133936,-4.05509441989235,-3.007858358165766,-7.939694203288603,2.3842886530191585,3.4707204345840927,-3.688589990209892,-3.9565726820119704,4.022435514174746,-2.502875028036429,-4.128051707105706,3.6452829679480585,-1.337829241849687,-8.024126524913319,-9.386348840070472,-3.3597700241261377,-3.5262944419676256,-3.4632237779822654,-3.5319573898396825,-8.043825408198616,2.3463491593455075,4.054240022349643,-5.097689936986347,2.0548627629088605,-7.912491012386313,-4.728510166532364,0.8116947771218962,-8.739752043445637,0.3284394953510203,0.15829783238556006,-3.9097516905289575,-6.860002222091783,-1.151256645522965,3.561284227344442,-0.009199316853096606,-1.766368900388947,-3.920734000669846,-4.1333748410468365,-9.780666445240302,-3.956554136762635,3.5286314509217895,-7.839680384160613,-8.352065967512942,-8.818982622823171,-4.053503780646705,1.3407175355614527,-1.545426348334561,4.9368453355813475,0.8627990865914263,-3.3196252022745143,-5.075367276110093,1.696352613314902,4.908984207745029,-7.783735388248322,-3.544448009426377,5.659358024076449,-8.401862882339504,0.8527151602267309,-5.265631958600636,1.2539448618846962,-8.588184787579273,-4.249989699734067,-8.379542347137651,-2.2038766446741613,3.009993533355024,-2.264200834105587,-3.8860552446321743,-6.1971492009204034,-2.7171845169103843,-3.695783857339091,4.057147146430284,-3.402811051386989,1.4911242775529543,3.3065986015291307,3.7227620096688283,-8.226340808371322,-3.8760084790146454,-3.255316513290986,-4.55994238497167,5.023692978550581,-3.2707971404987193,-7.732945900976985,1.5817281042993203,-10.049589027515138,1.128829044436472,5.92630668526536,-2.0061997875857838,-3.7501297022920634,-2.877660704131328,-4.592078954817427,-4.907049149171139,-3.9693630589832156,5.551213578682775,3.90202400589671,-2.783518418895034,-3.3861473419125483,-2.3040148081234553,4.205731799913164,4.640905566660254,1.7155034242636267,-6.1983500296150105,2.5442946283781653,6.098944469870908,-7.951397925750041,-2.911597738863084,1.6969497981220951,-2.1326637550143484,4.157119493365752,0.6008757114053863,-1.4659363731850437,-2.7288408425577058,-3.7681921298792607,-4.5768792770429965,3.769494222273808,-8.770590168336406,1.8986630017242312,4.816541516051418,-3.6381891553209127,6.506745005322004,0.24331435398353962,-3.3349682853646803,-3.615336850788729,-3.5757847610422853,-3.7694636001479305,0.6021543357591482,-5.5691209020665,2.0092338724433763,0.7848836255031636,-1.8867305969393389,5.337591950146718,-9.913916665022828,1.1006089235155598,-4.614465775368402,-7.251741212975334,5.291631033113889,-9.549848529219476,4.0097363419871845,5.168501049155187,-8.440535968100065,-3.090003229819183,-0.3996479913741764,-4.950375375013468,4.39382526992426,5.282658789959386,-1.8565323883106086,-7.329222486173637,1.9690207478218325,4.525498514650621,-3.2029369074981964,-6.388186311470344,1.931622566155364,-3.1399739067467087,0.23911165619180053,-7.6504872226241405,-3.7839661143045364],\"yaxis\":\"y\",\"type\":\"scatter\"},{\"hovertemplate\":\"x=%{x}<br>y=%{y}<br>size=%{marker.size}<extra></extra>\",\"legendgroup\":\"\",\"marker\":{\"color\":\"#636efa\",\"size\":[5,5,5,5,5],\"sizemode\":\"area\",\"sizeref\":0.0125,\"symbol\":\"circle\"},\"mode\":\"markers\",\"name\":\"\",\"orientation\":\"v\",\"showlegend\":false,\"x\":[-1.5833852832449526,-6.879589985673216,-5.903680782936749,-9.856205216211805,-2.1706975575575798],\"xaxis\":\"x\",\"y\":[4.505204570716482,-8.116481038348429,-3.044896409377455,-3.910217381939227,1.025919785255571],\"yaxis\":\"y\",\"type\":\"scatter\"}],                        {\"template\":{\"data\":{\"histogram2dcontour\":[{\"type\":\"histogram2dcontour\",\"colorbar\":{\"outlinewidth\":0,\"ticks\":\"\"},\"colorscale\":[[0.0,\"#0d0887\"],[0.1111111111111111,\"#46039f\"],[0.2222222222222222,\"#7201a8\"],[0.3333333333333333,\"#9c179e\"],[0.4444444444444444,\"#bd3786\"],[0.5555555555555556,\"#d8576b\"],[0.6666666666666666,\"#ed7953\"],[0.7777777777777778,\"#fb9f3a\"],[0.8888888888888888,\"#fdca26\"],[1.0,\"#f0f921\"]]}],\"choropleth\":[{\"type\":\"choropleth\",\"colorbar\":{\"outlinewidth\":0,\"ticks\":\"\"}}],\"histogram2d\":[{\"type\":\"histogram2d\",\"colorbar\":{\"outlinewidth\":0,\"ticks\":\"\"},\"colorscale\":[[0.0,\"#0d0887\"],[0.1111111111111111,\"#46039f\"],[0.2222222222222222,\"#7201a8\"],[0.3333333333333333,\"#9c179e\"],[0.4444444444444444,\"#bd3786\"],[0.5555555555555556,\"#d8576b\"],[0.6666666666666666,\"#ed7953\"],[0.7777777777777778,\"#fb9f3a\"],[0.8888888888888888,\"#fdca26\"],[1.0,\"#f0f921\"]]}],\"heatmap\":[{\"type\":\"heatmap\",\"colorbar\":{\"outlinewidth\":0,\"ticks\":\"\"},\"colorscale\":[[0.0,\"#0d0887\"],[0.1111111111111111,\"#46039f\"],[0.2222222222222222,\"#7201a8\"],[0.3333333333333333,\"#9c179e\"],[0.4444444444444444,\"#bd3786\"],[0.5555555555555556,\"#d8576b\"],[0.6666666666666666,\"#ed7953\"],[0.7777777777777778,\"#fb9f3a\"],[0.8888888888888888,\"#fdca26\"],[1.0,\"#f0f921\"]]}],\"heatmapgl\":[{\"type\":\"heatmapgl\",\"colorbar\":{\"outlinewidth\":0,\"ticks\":\"\"},\"colorscale\":[[0.0,\"#0d0887\"],[0.1111111111111111,\"#46039f\"],[0.2222222222222222,\"#7201a8\"],[0.3333333333333333,\"#9c179e\"],[0.4444444444444444,\"#bd3786\"],[0.5555555555555556,\"#d8576b\"],[0.6666666666666666,\"#ed7953\"],[0.7777777777777778,\"#fb9f3a\"],[0.8888888888888888,\"#fdca26\"],[1.0,\"#f0f921\"]]}],\"contourcarpet\":[{\"type\":\"contourcarpet\",\"colorbar\":{\"outlinewidth\":0,\"ticks\":\"\"}}],\"contour\":[{\"type\":\"contour\",\"colorbar\":{\"outlinewidth\":0,\"ticks\":\"\"},\"colorscale\":[[0.0,\"#0d0887\"],[0.1111111111111111,\"#46039f\"],[0.2222222222222222,\"#7201a8\"],[0.3333333333333333,\"#9c179e\"],[0.4444444444444444,\"#bd3786\"],[0.5555555555555556,\"#d8576b\"],[0.6666666666666666,\"#ed7953\"],[0.7777777777777778,\"#fb9f3a\"],[0.8888888888888888,\"#fdca26\"],[1.0,\"#f0f921\"]]}],\"surface\":[{\"type\":\"surface\",\"colorbar\":{\"outlinewidth\":0,\"ticks\":\"\"},\"colorscale\":[[0.0,\"#0d0887\"],[0.1111111111111111,\"#46039f\"],[0.2222222222222222,\"#7201a8\"],[0.3333333333333333,\"#9c179e\"],[0.4444444444444444,\"#bd3786\"],[0.5555555555555556,\"#d8576b\"],[0.6666666666666666,\"#ed7953\"],[0.7777777777777778,\"#fb9f3a\"],[0.8888888888888888,\"#fdca26\"],[1.0,\"#f0f921\"]]}],\"mesh3d\":[{\"type\":\"mesh3d\",\"colorbar\":{\"outlinewidth\":0,\"ticks\":\"\"}}],\"scatter\":[{\"fillpattern\":{\"fillmode\":\"overlay\",\"size\":10,\"solidity\":0.2},\"type\":\"scatter\"}],\"parcoords\":[{\"type\":\"parcoords\",\"line\":{\"colorbar\":{\"outlinewidth\":0,\"ticks\":\"\"}}}],\"scatterpolargl\":[{\"type\":\"scatterpolargl\",\"marker\":{\"colorbar\":{\"outlinewidth\":0,\"ticks\":\"\"}}}],\"bar\":[{\"error_x\":{\"color\":\"#2a3f5f\"},\"error_y\":{\"color\":\"#2a3f5f\"},\"marker\":{\"line\":{\"color\":\"#E5ECF6\",\"width\":0.5},\"pattern\":{\"fillmode\":\"overlay\",\"size\":10,\"solidity\":0.2}},\"type\":\"bar\"}],\"scattergeo\":[{\"type\":\"scattergeo\",\"marker\":{\"colorbar\":{\"outlinewidth\":0,\"ticks\":\"\"}}}],\"scatterpolar\":[{\"type\":\"scatterpolar\",\"marker\":{\"colorbar\":{\"outlinewidth\":0,\"ticks\":\"\"}}}],\"histogram\":[{\"marker\":{\"pattern\":{\"fillmode\":\"overlay\",\"size\":10,\"solidity\":0.2}},\"type\":\"histogram\"}],\"scattergl\":[{\"type\":\"scattergl\",\"marker\":{\"colorbar\":{\"outlinewidth\":0,\"ticks\":\"\"}}}],\"scatter3d\":[{\"type\":\"scatter3d\",\"line\":{\"colorbar\":{\"outlinewidth\":0,\"ticks\":\"\"}},\"marker\":{\"colorbar\":{\"outlinewidth\":0,\"ticks\":\"\"}}}],\"scattermapbox\":[{\"type\":\"scattermapbox\",\"marker\":{\"colorbar\":{\"outlinewidth\":0,\"ticks\":\"\"}}}],\"scatterternary\":[{\"type\":\"scatterternary\",\"marker\":{\"colorbar\":{\"outlinewidth\":0,\"ticks\":\"\"}}}],\"scattercarpet\":[{\"type\":\"scattercarpet\",\"marker\":{\"colorbar\":{\"outlinewidth\":0,\"ticks\":\"\"}}}],\"carpet\":[{\"aaxis\":{\"endlinecolor\":\"#2a3f5f\",\"gridcolor\":\"white\",\"linecolor\":\"white\",\"minorgridcolor\":\"white\",\"startlinecolor\":\"#2a3f5f\"},\"baxis\":{\"endlinecolor\":\"#2a3f5f\",\"gridcolor\":\"white\",\"linecolor\":\"white\",\"minorgridcolor\":\"white\",\"startlinecolor\":\"#2a3f5f\"},\"type\":\"carpet\"}],\"table\":[{\"cells\":{\"fill\":{\"color\":\"#EBF0F8\"},\"line\":{\"color\":\"white\"}},\"header\":{\"fill\":{\"color\":\"#C8D4E3\"},\"line\":{\"color\":\"white\"}},\"type\":\"table\"}],\"barpolar\":[{\"marker\":{\"line\":{\"color\":\"#E5ECF6\",\"width\":0.5},\"pattern\":{\"fillmode\":\"overlay\",\"size\":10,\"solidity\":0.2}},\"type\":\"barpolar\"}],\"pie\":[{\"automargin\":true,\"type\":\"pie\"}]},\"layout\":{\"autotypenumbers\":\"strict\",\"colorway\":[\"#636efa\",\"#EF553B\",\"#00cc96\",\"#ab63fa\",\"#FFA15A\",\"#19d3f3\",\"#FF6692\",\"#B6E880\",\"#FF97FF\",\"#FECB52\"],\"font\":{\"color\":\"#2a3f5f\"},\"hovermode\":\"closest\",\"hoverlabel\":{\"align\":\"left\"},\"paper_bgcolor\":\"white\",\"plot_bgcolor\":\"#E5ECF6\",\"polar\":{\"bgcolor\":\"#E5ECF6\",\"angularaxis\":{\"gridcolor\":\"white\",\"linecolor\":\"white\",\"ticks\":\"\"},\"radialaxis\":{\"gridcolor\":\"white\",\"linecolor\":\"white\",\"ticks\":\"\"}},\"ternary\":{\"bgcolor\":\"#E5ECF6\",\"aaxis\":{\"gridcolor\":\"white\",\"linecolor\":\"white\",\"ticks\":\"\"},\"baxis\":{\"gridcolor\":\"white\",\"linecolor\":\"white\",\"ticks\":\"\"},\"caxis\":{\"gridcolor\":\"white\",\"linecolor\":\"white\",\"ticks\":\"\"}},\"coloraxis\":{\"colorbar\":{\"outlinewidth\":0,\"ticks\":\"\"}},\"colorscale\":{\"sequential\":[[0.0,\"#0d0887\"],[0.1111111111111111,\"#46039f\"],[0.2222222222222222,\"#7201a8\"],[0.3333333333333333,\"#9c179e\"],[0.4444444444444444,\"#bd3786\"],[0.5555555555555556,\"#d8576b\"],[0.6666666666666666,\"#ed7953\"],[0.7777777777777778,\"#fb9f3a\"],[0.8888888888888888,\"#fdca26\"],[1.0,\"#f0f921\"]],\"sequentialminus\":[[0.0,\"#0d0887\"],[0.1111111111111111,\"#46039f\"],[0.2222222222222222,\"#7201a8\"],[0.3333333333333333,\"#9c179e\"],[0.4444444444444444,\"#bd3786\"],[0.5555555555555556,\"#d8576b\"],[0.6666666666666666,\"#ed7953\"],[0.7777777777777778,\"#fb9f3a\"],[0.8888888888888888,\"#fdca26\"],[1.0,\"#f0f921\"]],\"diverging\":[[0,\"#8e0152\"],[0.1,\"#c51b7d\"],[0.2,\"#de77ae\"],[0.3,\"#f1b6da\"],[0.4,\"#fde0ef\"],[0.5,\"#f7f7f7\"],[0.6,\"#e6f5d0\"],[0.7,\"#b8e186\"],[0.8,\"#7fbc41\"],[0.9,\"#4d9221\"],[1,\"#276419\"]]},\"xaxis\":{\"gridcolor\":\"white\",\"linecolor\":\"white\",\"ticks\":\"\",\"title\":{\"standoff\":15},\"zerolinecolor\":\"white\",\"automargin\":true,\"zerolinewidth\":2},\"yaxis\":{\"gridcolor\":\"white\",\"linecolor\":\"white\",\"ticks\":\"\",\"title\":{\"standoff\":15},\"zerolinecolor\":\"white\",\"automargin\":true,\"zerolinewidth\":2},\"scene\":{\"xaxis\":{\"backgroundcolor\":\"#E5ECF6\",\"gridcolor\":\"white\",\"linecolor\":\"white\",\"showbackground\":true,\"ticks\":\"\",\"zerolinecolor\":\"white\",\"gridwidth\":2},\"yaxis\":{\"backgroundcolor\":\"#E5ECF6\",\"gridcolor\":\"white\",\"linecolor\":\"white\",\"showbackground\":true,\"ticks\":\"\",\"zerolinecolor\":\"white\",\"gridwidth\":2},\"zaxis\":{\"backgroundcolor\":\"#E5ECF6\",\"gridcolor\":\"white\",\"linecolor\":\"white\",\"showbackground\":true,\"ticks\":\"\",\"zerolinecolor\":\"white\",\"gridwidth\":2}},\"shapedefaults\":{\"line\":{\"color\":\"#2a3f5f\"}},\"annotationdefaults\":{\"arrowcolor\":\"#2a3f5f\",\"arrowhead\":0,\"arrowwidth\":1},\"geo\":{\"bgcolor\":\"white\",\"landcolor\":\"#E5ECF6\",\"subunitcolor\":\"white\",\"showland\":true,\"showlakes\":true,\"lakecolor\":\"white\"},\"title\":{\"x\":0.05},\"mapbox\":{\"style\":\"light\"}}}},                        {\"responsive\": true}                    ).then(function(){\n",
              "                            \n",
              "var gd = document.getElementById('a63f5bd8-c57a-4261-8988-6c0ae038bdac');\n",
              "var x = new MutationObserver(function (mutations, observer) {{\n",
              "        var display = window.getComputedStyle(gd).display;\n",
              "        if (!display || display === 'none') {{\n",
              "            console.log([gd, 'removed!']);\n",
              "            Plotly.purge(gd);\n",
              "            observer.disconnect();\n",
              "        }}\n",
              "}});\n",
              "\n",
              "// Listen for the removal of the full notebook cells\n",
              "var notebookContainer = gd.closest('#notebook-container');\n",
              "if (notebookContainer) {{\n",
              "    x.observe(notebookContainer, {childList: true});\n",
              "}}\n",
              "\n",
              "// Listen for the clearing of the current output cell\n",
              "var outputEl = gd.closest('.output');\n",
              "if (outputEl) {{\n",
              "    x.observe(outputEl, {childList: true});\n",
              "}}\n",
              "\n",
              "                        })                };                            </script>        </div>\n",
              "</body>\n",
              "</html>"
            ]
          },
          "metadata": {}
        }
      ]
    }
  ]
}